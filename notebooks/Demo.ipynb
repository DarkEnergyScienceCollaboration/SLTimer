{
 "cells": [
  {
   "cell_type": "markdown",
   "metadata": {},
   "source": [
    "# SLTimer Demo\n",
    "\n",
    "In this notebook we will show how `SLTimer` can be used to estimate a time delay from some example data."
   ]
  },
  {
   "cell_type": "markdown",
   "metadata": {},
   "source": [
    "## Example Data\n",
    "\n",
    "We will use the \"demo1\" 4-image light curve data that comes with the `PyCS` repository. Let's download this and use `PyCS` to analyze it, before showing the same operations performed by SLTimer."
   ]
  },
  {
   "cell_type": "code",
   "execution_count": null,
   "metadata": {
    "collapsed": true
   },
   "outputs": [],
   "source": [
    "import os, urllib\n",
    "from __future__ import print_function"
   ]
  },
  {
   "cell_type": "code",
   "execution_count": null,
   "metadata": {
    "collapsed": false
   },
   "outputs": [],
   "source": [
    "webdir = 'https://raw.githubusercontent.com/COSMOGRAIL/PyCS/master/demo/demo1/data/'\n",
    "rdbfile = 'trialcurves.txt'\n",
    "    \n",
    "url = os.path.join(webdir, rdbfile)\n",
    "if not os.path.isfile(rdbfile):\n",
    "    urllib.urlretrieve(url, rdbfile)"
   ]
  },
  {
   "cell_type": "code",
   "execution_count": null,
   "metadata": {
    "collapsed": false
   },
   "outputs": [],
   "source": [
    "!wc -l $rdbfile"
   ]
  },
  {
   "cell_type": "markdown",
   "metadata": {},
   "source": [
    "Be in directory /Users/milanwilliams/PyCs\n",
    "Run python\n",
    "(To make sure you are in the right directory; import pycs, if there is no error message, you are in the right directory).\n",
    "\n",
    "In the second line; make sure to edit the location of the data file based on the computer\n",
    "\n",
    "In this first script we \"import\" the data, in this case from a simple text file with headers (other formats are also supported, see doc)"
   ]
  },
  {
   "cell_type": "code",
   "execution_count": null,
   "metadata": {
    "collapsed": true
   },
   "outputs": [],
   "source": [
    "import pycs\n",
    "%matplotlib inline"
   ]
  },
  {
   "cell_type": "code",
   "execution_count": null,
   "metadata": {
    "collapsed": false
   },
   "outputs": [],
   "source": [
    "lcs = [\n",
    "        pycs.gen.lc.rdbimport(rdbfile, 'A', 'mag_A', 'magerr_A', \"Trial\"),\n",
    "        pycs.gen.lc.rdbimport(rdbfile, 'B', 'mag_B', 'magerr_B', \"Trial\"),\n",
    "        pycs.gen.lc.rdbimport(rdbfile, 'C', 'mag_C', 'magerr_C', \"Trial\"),\n",
    "        pycs.gen.lc.rdbimport(rdbfile, 'D', 'mag_D', 'magerr_D', \"Trial\")\n",
    "]"
   ]
  },
  {
   "cell_type": "code",
   "execution_count": null,
   "metadata": {
    "collapsed": false
   },
   "outputs": [],
   "source": [
    "pycs.gen.mrg.colourise(lcs) # Gives each curve a different colour.\n",
    "\n",
    "# Let's shift them by the \"true\" time shifts, for display purposes :\n",
    "lcs[1].shifttime(-5.0)\n",
    "lcs[2].shifttime(-20.0)\n",
    "lcs[3].shifttime(-70.0)\n",
    "\n",
    "# We show them :\n",
    "pycs.gen.lc.display(lcs)"
   ]
  },
  {
   "cell_type": "markdown",
   "metadata": {},
   "source": [
    "----\n",
    "Notes:"
   ]
  },
  {
   "cell_type": "code",
   "execution_count": null,
   "metadata": {
    "collapsed": true
   },
   "outputs": [],
   "source": [
    "# Or if you prefer to save them into a file:\n",
    "pycs.gen.lc.display(lcs, filename=\"fig_trialcurves.pdf\")\n",
    "# This function has many more options...\n",
    "\n",
    "# We undo these shifts, as from now on we \"forget\" about these true delays.\n",
    "for l in lcs:\n",
    "        l.resetshifts()\n",
    "\n",
    "# The main point of this script : we save the raw curves into a pkl file : ADDED THE DIRECTORY \n",
    "pycs.gen.util.writepickle(lcs, \"/Users/milanwilliams/PyCs/demo/demo1/data/trialcurves.pkl\")\n",
    "\n",
    "# Normally we would stop here.\n",
    "# In any further scripts, you can now import the data by reading this pickle file :\n",
    "lcs = pycs.gen.util.readpickle(\"/Users/milanwilliams/PyCs/demo/demo1/data/trialcurves.pkl\")\n",
    "\n",
    "# ... and do something with it.\n",
    "for l in lcs:\n",
    "        print l.longinfo()\n",
    "        \n",
    "# For instance, we could export the data into a text file. This line is broken, syntax error?\n",
    "for l in lcs:\n",
    "        l.resetshifts()\n",
    "pycs.gen.util.multilcsexport(lcs, \"out_trialcurves.txt\", separator=\"\\t\", verbose=True, properties=None)\n",
    "# Which gives in this case the same file as the one from which you read the data in first place."
   ]
  }
 ],
 "metadata": {
  "kernelspec": {
   "display_name": "Python 2",
   "language": "python",
   "name": "python2"
  },
  "language_info": {
   "codemirror_mode": {
    "name": "ipython",
    "version": 2
   },
   "file_extension": ".py",
   "mimetype": "text/x-python",
   "name": "python",
   "nbconvert_exporter": "python",
   "pygments_lexer": "ipython2",
   "version": "2.7.11"
  }
 },
 "nbformat": 4,
 "nbformat_minor": 0
}
