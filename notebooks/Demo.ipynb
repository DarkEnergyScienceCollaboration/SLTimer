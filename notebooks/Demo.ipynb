{
 "cells": [
  {
   "cell_type": "markdown",
   "metadata": {},
   "source": [
    "# SLTimer Demo\n",
    "\n",
    "In this notebook we will show how `SLTimer` can be used to estimate a time delay from some example data."
   ]
  },
  {
   "cell_type": "markdown",
   "metadata": {},
   "source": [
    "## 1. Obtaining PyCS and its Sample Data \n",
    "\n",
    "We will use the \"demo1\" 4-image light curve data that comes with the `PyCS` repository. Let's download this and use `PyCS` to analyze it, before showing the same operations performed by SLTimer."
   ]
  },
  {
   "cell_type": "markdown",
   "metadata": {},
   "source": [
    "This function `imports` the operating system and the url library package which enables us to collect URLs."
   ]
  },
  {
   "cell_type": "code",
   "execution_count": null,
   "metadata": {
    "collapsed": true
   },
   "outputs": [],
   "source": [
    "import os, urllib\n",
    "from __future__ import print_function"
   ]
  },
  {
   "cell_type": "markdown",
   "metadata": {},
   "source": [
    "This script defines our variables for `webdir` and `rdbfile`. `webdir` makes a copy of PyCS from GitHub so we can utilize their data. `rdbfile` calls trialcurves.txt, the text file that holds the data that we are going to process. `url` concatenates the paths of `webdir` and `rdbfile`. If rdbfile is not there, use url to copy the file locally."
   ]
  },
  {
   "cell_type": "code",
   "execution_count": null,
   "metadata": {
    "collapsed": false
   },
   "outputs": [],
   "source": [
    "webdir = 'https://raw.githubusercontent.com/COSMOGRAIL/PyCS/master/demo/demo1/data/'\n",
    "rdbfile = 'trialcurves.txt'\n",
    "    \n",
    "url = os.path.join(webdir, rdbfile)\n",
    "if not os.path.isfile(rdbfile):\n",
    "    urllib.urlretrieve(url, rdbfile)"
   ]
  },
  {
   "cell_type": "markdown",
   "metadata": {},
   "source": [
    "This script will count the number of lines in the rdbfile. "
   ]
  },
  {
   "cell_type": "code",
   "execution_count": null,
   "metadata": {
    "collapsed": false
   },
   "outputs": [],
   "source": [
    "!wc -l $rdbfile"
   ]
  },
  {
   "cell_type": "markdown",
   "metadata": {},
   "source": [
    "In this first script we import `PyCS`, the software needed to process the data. We also call `matplotlib` to be used later as it is needed."
   ]
  },
  {
   "cell_type": "code",
   "execution_count": 2,
   "metadata": {
    "collapsed": true
   },
   "outputs": [],
   "source": [
    "import pycs\n",
    "%matplotlib inline"
   ]
  },
  {
   "cell_type": "markdown",
   "metadata": {},
   "source": [
    "## 2. Displaying the Light Curve Data"
   ]
  },
  {
   "cell_type": "markdown",
   "metadata": {},
   "source": [
    "This script calls the data from the rdbfile, in this case from a simple text file with headers. (Note: other formats are supported as well.)"
   ]
  },
  {
   "cell_type": "code",
   "execution_count": null,
   "metadata": {
    "collapsed": false
   },
   "outputs": [],
   "source": [
    "lcs = [\n",
    "        pycs.gen.lc.rdbimport(rdbfile, 'A', 'mag_A', 'magerr_A', \"Trial\"),\n",
    "        pycs.gen.lc.rdbimport(rdbfile, 'B', 'mag_B', 'magerr_B', \"Trial\"),\n",
    "        pycs.gen.lc.rdbimport(rdbfile, 'C', 'mag_C', 'magerr_C', \"Trial\"),\n",
    "        pycs.gen.lc.rdbimport(rdbfile, 'D', 'mag_D', 'magerr_D', \"Trial\")\n",
    "]"
   ]
  },
  {
   "cell_type": "markdown",
   "metadata": {},
   "source": [
    "Let's add some color to this plot! This script gives each curve a different color. "
   ]
  },
  {
   "cell_type": "code",
   "execution_count": null,
   "metadata": {
    "collapsed": true
   },
   "outputs": [],
   "source": [
    "pycs.gen.mrg.colourise(lcs) "
   ]
  },
  {
   "cell_type": "markdown",
   "metadata": {},
   "source": [
    "This script shifts the data by the \"true\" time shifts, for display purposes. We will find time shifts for ourselves later in the programming."
   ]
  },
  {
   "cell_type": "code",
   "execution_count": null,
   "metadata": {
    "collapsed": true
   },
   "outputs": [],
   "source": [
    "lcs[1].shifttime(-5.0)\n",
    "lcs[2].shifttime(-20.0)\n",
    "lcs[3].shifttime(-70.0)"
   ]
  },
  {
   "cell_type": "markdown",
   "metadata": {},
   "source": [
    "Now to display our plot! "
   ]
  },
  {
   "cell_type": "code",
   "execution_count": null,
   "metadata": {
    "collapsed": false
   },
   "outputs": [],
   "source": [
    "pycs.gen.lc.display(lcs)"
   ]
  },
  {
   "cell_type": "markdown",
   "metadata": {},
   "source": [
    "The most *IMPORTANT* step in this process. Write this information to a pickle file using the code below."
   ]
  },
  {
   "cell_type": "code",
   "execution_count": null,
   "metadata": {
    "collapsed": false
   },
   "outputs": [],
   "source": [
    "pycs.gen.util.writepickle(lcs, \"trialcurves.pkl\")"
   ]
  },
  {
   "cell_type": "markdown",
   "metadata": {},
   "source": [
    "In further scripts, you can now import the data by reading this file. "
   ]
  },
  {
   "cell_type": "code",
   "execution_count": 3,
   "metadata": {
    "collapsed": false
   },
   "outputs": [
    {
     "name": "stdout",
     "output_type": "stream",
     "text": [
      "Read trialcurves.pkl\n"
     ]
    }
   ],
   "source": [
    "lcs = pycs.gen.util.readpickle(\"trialcurves.pkl\")"
   ]
  },
  {
   "cell_type": "markdown",
   "metadata": {},
   "source": [
    "We will now undo these shifts, and from now on we will \"forget\" about the true delays. "
   ]
  },
  {
   "cell_type": "code",
   "execution_count": 4,
   "metadata": {
    "collapsed": true
   },
   "outputs": [],
   "source": [
    "for l in lcs:\n",
    "        l.resetshifts()"
   ]
  },
  {
   "cell_type": "markdown",
   "metadata": {},
   "source": [
    "You can do a variety of things with this file to find out more information. For example, running the script below will provide you with the number of points, gap length, shifts, median, mean, maximum, minimum, and the colour it is plotted in.  "
   ]
  },
  {
   "cell_type": "code",
   "execution_count": 5,
   "metadata": {
    "collapsed": false
   },
   "outputs": [
    {
     "name": "stdout",
     "output_type": "stream",
     "text": [
      "- - - - - - - - - - - - - - - - - - - - - - - - - - - - - - \n",
      "\t[Trial/A]\n",
      "192 points (total), 0 of which are masked\n",
      "4 seasons (gap: >60), gap length : 164.0 +/- 33.8 days\n",
      "Sampling : median 4.0, mean 4.4, max 25.1, min 0.83 days\n",
      "Shifts : (0.00000,0.00000,0.00) [days, mag, flux]\n",
      "Colour : red\n",
      "Common properties : \n",
      "   All properties : \n",
      "Comments :\n",
      "   Imported from trialcurves.txt, columns (1, 2, 3)\n",
      "- - - - - - - - - - - - - - - - - - - - - - - - - - - - - - \n",
      "- - - - - - - - - - - - - - - - - - - - - - - - - - - - - - \n",
      "\t[Trial/B]\n",
      "192 points (total), 0 of which are masked\n",
      "4 seasons (gap: >60), gap length : 164.0 +/- 33.8 days\n",
      "Sampling : median 4.0, mean 4.4, max 25.1, min 0.83 days\n",
      "Shifts : (0.00000,0.00000,0.00) [days, mag, flux]\n",
      "Colour : blue\n",
      "Common properties : \n",
      "   All properties : \n",
      "Comments :\n",
      "   Imported from trialcurves.txt, columns (1, 4, 5)\n",
      "- - - - - - - - - - - - - - - - - - - - - - - - - - - - - - \n",
      "- - - - - - - - - - - - - - - - - - - - - - - - - - - - - - \n",
      "\t[Trial/C]\n",
      "192 points (total), 0 of which are masked\n",
      "4 seasons (gap: >60), gap length : 164.0 +/- 33.8 days\n",
      "Sampling : median 4.0, mean 4.4, max 25.1, min 0.83 days\n",
      "Shifts : (0.00000,0.00000,0.00) [days, mag, flux]\n",
      "Colour : #009900\n",
      "Common properties : \n",
      "   All properties : \n",
      "Comments :\n",
      "   Imported from trialcurves.txt, columns (1, 6, 7)\n",
      "- - - - - - - - - - - - - - - - - - - - - - - - - - - - - - \n",
      "- - - - - - - - - - - - - - - - - - - - - - - - - - - - - - \n",
      "\t[Trial/D]\n",
      "192 points (total), 0 of which are masked\n",
      "4 seasons (gap: >60), gap length : 164.0 +/- 33.8 days\n",
      "Sampling : median 4.0, mean 4.4, max 25.1, min 0.83 days\n",
      "Shifts : (0.00000,0.00000,0.00) [days, mag, flux]\n",
      "Colour : purple\n",
      "Common properties : \n",
      "   All properties : \n",
      "Comments :\n",
      "   Imported from trialcurves.txt, columns (1, 8, 9)\n",
      "- - - - - - - - - - - - - - - - - - - - - - - - - - - - - - \n"
     ]
    }
   ],
   "source": [
    "for l in lcs: print(l.longinfo())"
   ]
  },
  {
   "cell_type": "markdown",
   "metadata": {},
   "source": [
    "To save this figure to a file: "
   ]
  },
  {
   "cell_type": "code",
   "execution_count": null,
   "metadata": {
    "collapsed": false
   },
   "outputs": [],
   "source": [
    "pycs.gen.lc.display(lcs, filename=\"fig_trialcurves.pdf\")"
   ]
  },
  {
   "cell_type": "markdown",
   "metadata": {},
   "source": [
    "Another thing we can do is export the data into a text file called \"out_trialcurves.txt\". In this case, since we have not altered the original data, this file will contain the same information as trialcurves.txt."
   ]
  },
  {
   "cell_type": "code",
   "execution_count": null,
   "metadata": {
    "collapsed": false
   },
   "outputs": [],
   "source": [
    "for l in lcs:\n",
    "    l.resetshifts() \n",
    "    \n",
    "pycs.gen.util.multilcsexport(lcs, \"out_trialcurves.txt\", separator=\"\\t\", verbose=True, properties=None)"
   ]
  },
  {
   "cell_type": "markdown",
   "metadata": {},
   "source": [
    "## 3. Factoring Microlensing into the Light Curves and Creating the Free-Knot Spline Fit"
   ]
  },
  {
   "cell_type": "markdown",
   "metadata": {},
   "source": [
    "The script optimizes the spline. It is a simple attempt to get a multi-purpose free-knot spline method. It is within this code that all of the fine-tuning methods happen. This is done by defining the curve shifting functions that will be used in the scripts. This script optimizes the spline three times; twice as rough with two different knotsteps and once as fine. "
   ]
  },
  {
   "cell_type": "code",
   "execution_count": null,
   "metadata": {
    "collapsed": true
   },
   "outputs": [],
   "source": [
    "def spl(lcs):\n",
    "    spline = pycs.spl.topopt.opt_rough(lcs, nit=5, knotstep=50)\n",
    "    for l in lcs:\n",
    "        l.resetml()\n",
    "    spline = pycs.spl.topopt.opt_rough(lcs, nit=5, knotstep=30)\n",
    "    spline = pycs.spl.topopt.opt_fine(lcs, nit=10, knotstep=20)\n",
    "    return spline"
   ]
  },
  {
   "cell_type": "markdown",
   "metadata": {},
   "source": [
    "This line will print the estimated shifts from before, used to align the different light curves to make them easier to read in our plot. "
   ]
  },
  {
   "cell_type": "code",
   "execution_count": null,
   "metadata": {
    "collapsed": false
   },
   "outputs": [],
   "source": [
    "for l in lcs: print (l)"
   ]
  },
  {
   "cell_type": "markdown",
   "metadata": {},
   "source": [
    "Let's try  curve shifting without correcting for variability, just to see what it looks like. This will be done by using the free-knot spline technique."
   ]
  },
  {
   "cell_type": "code",
   "execution_count": null,
   "metadata": {
    "collapsed": false
   },
   "outputs": [],
   "source": [
    "spline = spl(lcs)"
   ]
  },
  {
   "cell_type": "markdown",
   "metadata": {},
   "source": [
    "This script will display our new graph. Remember, it won't look very good, as the curves do not overlap without a microlensing model. "
   ]
  },
  {
   "cell_type": "code",
   "execution_count": null,
   "metadata": {
    "collapsed": false,
    "scrolled": true
   },
   "outputs": [],
   "source": [
    "pycs.gen.lc.display(lcs, [spline])"
   ]
  },
  {
   "cell_type": "markdown",
   "metadata": {},
   "source": [
    "Now let's print \"Time Delays:\" to make our work a bit easier to read. We will then compute the current time delays as from the current time shifts of each curve. "
   ]
  },
  {
   "cell_type": "code",
   "execution_count": null,
   "metadata": {
    "collapsed": false
   },
   "outputs": [],
   "source": [
    "print(\"Time Delays:\")\n",
    "print (pycs.gen.lc.getnicetimedelays(lcs, separator=\"\\n\", sorted=True))"
   ]
  },
  {
   "cell_type": "markdown",
   "metadata": {},
   "source": [
    "To get even better results, let's factor in the microlensing models (e.g., polynomials) to our light curves. This choice is just an illustration. "
   ]
  },
  {
   "cell_type": "code",
   "execution_count": null,
   "metadata": {
    "collapsed": true
   },
   "outputs": [],
   "source": [
    "pycs.gen.polyml.addtolc(lcs[1], nparams=2, autoseasonsgap=60.0)\n",
    "pycs.gen.polyml.addtolc(lcs[2], nparams=3, autoseasonsgap=600.0)\n",
    "pycs.gen.polyml.addtolc(lcs[3], nparams=3, autoseasonsgap=600.0)"
   ]
  },
  {
   "cell_type": "markdown",
   "metadata": {},
   "source": [
    "Now, let's try the free-knot spline optimization again. The result will be much better. "
   ]
  },
  {
   "cell_type": "code",
   "execution_count": null,
   "metadata": {
    "collapsed": false
   },
   "outputs": [],
   "source": [
    "spline = spl(lcs) "
   ]
  },
  {
   "cell_type": "markdown",
   "metadata": {},
   "source": [
    "Let's display our graph!"
   ]
  },
  {
   "cell_type": "code",
   "execution_count": null,
   "metadata": {
    "collapsed": false
   },
   "outputs": [],
   "source": [
    "pycs.gen.lc.display(lcs, [spline])"
   ]
  },
  {
   "cell_type": "markdown",
   "metadata": {},
   "source": [
    "Let's print the new time delays, so we can see the difference once microlensing is factored in. Compare our previous time delay output to this output. "
   ]
  },
  {
   "cell_type": "code",
   "execution_count": null,
   "metadata": {
    "collapsed": false
   },
   "outputs": [],
   "source": [
    "print(\"Time Delays:\")\n",
    "print (pycs.gen.lc.getnicetimedelays(lcs, separator=\"\\n\", sorted=True))"
   ]
  },
  {
   "cell_type": "markdown",
   "metadata": {},
   "source": [
    "This script factors in the microlensing."
   ]
  },
  {
   "cell_type": "code",
   "execution_count": null,
   "metadata": {
    "collapsed": false
   },
   "outputs": [],
   "source": [
    "pycs.gen.splml.addtolc(lcs[0], knotstep=150)\n",
    "pycs.gen.splml.addtolc(lcs[1], knotstep=150)\n",
    "pycs.gen.splml.addtolc(lcs[2], knotstep=150)\n",
    "pycs.gen.splml.addtolc(lcs[3], knotstep=150)"
   ]
  },
  {
   "cell_type": "markdown",
   "metadata": {},
   "source": [
    "This script redefines `spline`. "
   ]
  },
  {
   "cell_type": "code",
   "execution_count": null,
   "metadata": {
    "collapsed": false
   },
   "outputs": [],
   "source": [
    "spline = spl(lcs)"
   ]
  },
  {
   "cell_type": "markdown",
   "metadata": {},
   "source": [
    "This script displays our work in a PDF file for consistent readability, adding specifications to the plot to make it easy to understand. "
   ]
  },
  {
   "cell_type": "code",
   "execution_count": null,
   "metadata": {
    "collapsed": false
   },
   "outputs": [],
   "source": [
    "pycs.gen.lc.display(lcs, [spline], knotsize=0.01, figsize=(20, 7), jdrange=(53900, 55500),filename=\"fig_modelfit.pdf\")"
   ]
  },
  {
   "cell_type": "markdown",
   "metadata": {},
   "source": [
    "All of this work will now be written to a pickle file which will be used later. This file includes the lcs and their optimized microlensing splines. "
   ]
  },
  {
   "cell_type": "code",
   "execution_count": null,
   "metadata": {
    "collapsed": false
   },
   "outputs": [],
   "source": [
    "pycs.gen.util.writepickle((lcs, spline), \"optspline.pkl\")"
   ]
  },
  {
   "cell_type": "markdown",
   "metadata": {},
   "source": [
    "## 4. Creating Copies of the Data to find the Time Delay Uncertanties"
   ]
  },
  {
   "cell_type": "markdown",
   "metadata": {},
   "source": [
    "This script makes 200 copies of the data. These will be used to evaluate the instrinic variance of the optimizer and compute the best point estimates for the delays. "
   ]
  },
  {
   "cell_type": "code",
   "execution_count": 6,
   "metadata": {
    "collapsed": false
   },
   "outputs": [
    {
     "name": "stdout",
     "output_type": "stream",
     "text": [
      "Now thowing dice into sims_copies ...\n",
      "The directory exists, I'll add my new curves.\n",
      "Input shifts :\n",
      "A    +0.00 | B    +0.00 | C    +0.00 | D    +0.00\n",
      "Input delays :\n",
      "AB   +0.00 | AC   +0.00 | AD   +0.00 | BC   +0.00 | BD   +0.00 | CD   +0.00\n",
      "Preparing 5 identical copies for pkl 1/4 ...\n",
      "Wrote sims_copies/1_1466116662.92844.pkl\n",
      "Preparing 5 identical copies for pkl 2/4 ...\n",
      "Wrote sims_copies/2_1466116662.95432.pkl\n",
      "Preparing 5 identical copies for pkl 3/4 ...\n",
      "Wrote sims_copies/3_1466116662.97396.pkl\n",
      "Preparing 5 identical copies for pkl 4/4 ...\n",
      "Wrote sims_copies/4_1466116663.00248.pkl\n"
     ]
    }
   ],
   "source": [
    "pycs.sim.draw.multidraw(lcs, onlycopy=True, n=5, npkl=4, simset=\"copies\")"
   ]
  },
  {
   "cell_type": "markdown",
   "metadata": {},
   "source": [
    "This makes 1000 synthetic light curves with known true time delays, starting from the generative model. For this step we don't need the \"raw\" data. Instead, we wil use the the \"optimized\" light curves, with their shifts and microlensing models from prior steps, and the spline representing the intrinsic QSO variability. "
   ]
  },
  {
   "cell_type": "code",
   "execution_count": 7,
   "metadata": {
    "collapsed": false
   },
   "outputs": [
    {
     "name": "stdout",
     "output_type": "stream",
     "text": [
      "Read optspline.pkl\n"
     ]
    }
   ],
   "source": [
    "(modellcs, modelspline)  = pycs.gen.util.readpickle(\"optspline.pkl\")"
   ]
  },
  {
   "cell_type": "markdown",
   "metadata": {},
   "source": [
    "Before running our simulation, let's define our tweaks, the small scale extrinsic variability, used to generated the synthetic curves. Something to be noted for the future is that these beta, sigma, and fmin are *assumptions*, these values can be changed. "
   ]
  },
  {
   "cell_type": "code",
   "execution_count": 8,
   "metadata": {
    "collapsed": true
   },
   "outputs": [],
   "source": [
    "def Atweakml(lcs):\n",
    "    return pycs.sim.twk.tweakml(lcs, beta=-1.5, sigma=0.25, fmin=1/500.0, fmax=None, psplot=False)\n",
    "\n",
    "def Btweakml(lcs):\n",
    "    return pycs.sim.twk.tweakml(lcs, beta=-1.0, sigma=0.9, fmin=1/500.0, fmax=None, psplot=False)\n",
    "\n",
    "def Ctweakml(lcs):\n",
    "    return pycs.sim.twk.tweakml(lcs, beta=-1.0, sigma=1.5, fmin=1/500.0, fmax=None, psplot=False)\n",
    "\n",
    "def Dtweakml(lcs):\n",
    "    return pycs.sim.twk.tweakml(lcs, beta=-0.0, sigma=4.5, fmin=1/500.0, fmax=None, psplot=False)"
   ]
  },
  {
   "cell_type": "markdown",
   "metadata": {},
   "source": [
    "At this place, *only* if you know what you are doing, you can manually adjust the microlensing or the delays. If not, run this script. This will run 20 simulations for each element in the pickle file. "
   ]
  },
  {
   "cell_type": "code",
   "execution_count": 9,
   "metadata": {
    "collapsed": false
   },
   "outputs": [
    {
     "name": "stdout",
     "output_type": "stream",
     "text": [
      "Now thowing dice into sims_1Kset1 ...\n",
      "The directory exists, I'll add my new curves.\n",
      "Input shifts :\n",
      "A    -7.64 | B   -12.44 | C   -28.36 | D   -76.26\n",
      "Input delays :\n",
      "AB   -4.80 | AC  -20.72 | AD  -68.62 | BC  -15.92 | BD  -63.82 | CD  -47.90\n",
      "Drawing 10 simulations for pkl 1/10 ...\n"
     ]
    },
    {
     "name": "stderr",
     "output_type": "stream",
     "text": [
      "/Users/milanwilliams/PyCS/pycs/gen/spl.py:342: FutureWarning: comparison to `None` will result in an elementwise object comparison in the future.\n",
      "  if (self.t == None):\n"
     ]
    },
    {
     "name": "stdout",
     "output_type": "stream",
     "text": [
      "Wrote sims_1Kset1/1_1466116675.50352.pkl\n",
      "Drawing 10 simulations for pkl 2/10 ...\n",
      "Wrote sims_1Kset1/2_1466116676.18533.pkl\n",
      "Drawing 10 simulations for pkl 3/10 ...\n",
      "Wrote sims_1Kset1/3_1466116677.01582.pkl\n",
      "Drawing 10 simulations for pkl 4/10 ...\n",
      "Wrote sims_1Kset1/4_1466116677.75231.pkl\n",
      "Drawing 10 simulations for pkl 5/10 ...\n",
      "Wrote sims_1Kset1/5_1466116678.35378.pkl\n",
      "Drawing 10 simulations for pkl 6/10 ...\n",
      "Wrote sims_1Kset1/6_1466116678.94336.pkl\n",
      "Drawing 10 simulations for pkl 7/10 ...\n",
      "Wrote sims_1Kset1/7_1466116679.54376.pkl\n",
      "Drawing 10 simulations for pkl 8/10 ...\n",
      "Wrote sims_1Kset1/8_1466116680.12439.pkl\n",
      "Drawing 10 simulations for pkl 9/10 ...\n",
      "Wrote sims_1Kset1/9_1466116680.72445.pkl\n",
      "Drawing 10 simulations for pkl 10/10 ...\n",
      "Wrote sims_1Kset1/10_1466116681.33809.pkl\n"
     ]
    }
   ],
   "source": [
    "pycs.sim.draw.saveresiduals(modellcs, modelspline)\n",
    "pycs.sim.draw.multidraw(modellcs, modelspline, n=10, npkl=10, simset=\"1Kset1\",\n",
    "        truetsr=8.0, tweakml=[Atweakml, Btweakml, Ctweakml, Dtweakml])"
   ]
  },
  {
   "cell_type": "markdown",
   "metadata": {},
   "source": [
    "**Variable Explanations**:\n",
    "\"1Kset1\" is a name that you can freely choose for your specific set of simulations. \n",
    "\"truetsr=8.0\" means that the synthetic curves will get random true time shifts in a range of about 8.0 days around the time shifts of the model lcs. "
   ]
  },
  {
   "cell_type": "markdown",
   "metadata": {
    "collapsed": false
   },
   "source": [
    "## 5. Running Curve-Shifting Methods with Different Techniques "
   ]
  },
  {
   "cell_type": "markdown",
   "metadata": {},
   "source": [
    "Have it include the error; commit with the error, scroll down to this script 6; this line doesn't work, put in error message, explain, report on what i will do with the rest; comment out everything htat needs free-spline; this is a bug in PyCS tutorial that we should report --> paste the scripts in; "
   ]
  },
  {
   "cell_type": "markdown",
   "metadata": {
    "collapsed": false
   },
   "source": [
    "We are now going to run three curve-shifting methods on these data sets. To \"define\" the microlensing models and initial shifts, we make use of one single set of curves, the observed data. \n",
    "\n",
    "Let's set some reasonable guess delays. We can obtain these by eye or through the model fit. "
   ]
  },
  {
   "cell_type": "code",
   "execution_count": 10,
   "metadata": {
    "collapsed": false
   },
   "outputs": [],
   "source": [
    "lcs[1].shifttime(-7.0)\n",
    "lcs[2].shifttime(-22.0)\n",
    "lcs[3].shifttime(-65.0)"
   ]
  },
  {
   "cell_type": "markdown",
   "metadata": {},
   "source": [
    "Our first technique will be the free-knot spline technique. First, we will define the microlensing model, like in Step 3. "
   ]
  },
  {
   "cell_type": "code",
   "execution_count": 11,
   "metadata": {
    "collapsed": false
   },
   "outputs": [],
   "source": [
    "pycs.gen.splml.addtolc(lcs[0], knotstep=150)\n",
    "pycs.gen.splml.addtolc(lcs[1], knotstep=150)\n",
    "pycs.gen.splml.addtolc(lcs[2], knotstep=150)\n",
    "pycs.gen.splml.addtolc(lcs[3], knotstep=150)"
   ]
  },
  {
   "cell_type": "markdown",
   "metadata": {},
   "source": [
    "Now, we will run the free-knot spline technique using the plain copies we made earlier of the data. "
   ]
  },
  {
   "cell_type": "markdown",
   "metadata": {},
   "source": [
    "pycs.sim.run.multirun(\"copies\", lcs, spl, optset=\"spl\", tsrand=10.0, keepopt=True)"
   ]
  },
  {
   "cell_type": "markdown",
   "metadata": {},
   "source": [
    "Now, we will run the free-knot spline technique using the copies of the synthetic light curve sets we made earlier."
   ]
  },
  {
   "cell_type": "code",
   "execution_count": null,
   "metadata": {
    "collapsed": true
   },
   "outputs": [],
   "source": [
    "pycs.sim.run.multirun(\"1Kset1\", lcs, spl, optset=\"spl\", tsrand=10.0, keepopt=True)"
   ]
  },
  {
   "cell_type": "markdown",
   "metadata": {},
   "source": [
    "**Note**: The two lines of code above do not run. This is bug that should be reported to PyCS through an issue on GitHub. Here is the resulting error message. \n",
    "\n",
    "`RuntimeError: Knot spacing min = 7.283257, epsilon = 10.000000`\n",
    "\n",
    "**Note**: When you run this multirun, as shown above, keep `keepopt=True` as shown above. This will make it easier to read the residuals from the synthetic curves with the residuals from the observed data. You can change the name \"optset\" to anything, though it should reflect the full method, including the settings of the microlensing. \n"
   ]
  },
  {
   "cell_type": "markdown",
   "metadata": {},
   "source": [
    "Our second technique will be the dispersion technique. First, let's run the code needed to define our variables. "
   ]
  },
  {
   "cell_type": "code",
   "execution_count": 12,
   "metadata": {
    "collapsed": true
   },
   "outputs": [],
   "source": [
    "rawdispersionmethod = lambda lc1, lc2 : pycs.disp.disps.linintnp(lc1, lc2, interpdist = 30.0)\n",
    "dispersionmethod = lambda lc1, lc2 : pycs.disp.disps.symmetrize(lc1, lc2, rawdispersionmethod)\n",
    "def disp(lcs):\n",
    "    return pycs.disp.topopt.opt_full(lcs, rawdispersionmethod, nit=5, verbose=True)"
   ]
  },
  {
   "cell_type": "markdown",
   "metadata": {},
   "source": [
    "Next, let's factor in our microlensing models (polynomials). "
   ]
  },
  {
   "cell_type": "code",
   "execution_count": 13,
   "metadata": {
    "collapsed": false
   },
   "outputs": [
    {
     "name": "stdout",
     "output_type": "stream",
     "text": [
      "I replace an existing mircolensing.\n",
      "I replace an existing mircolensing.\n",
      "I replace an existing mircolensing.\n",
      "I replace an existing mircolensing.\n"
     ]
    }
   ],
   "source": [
    "pycs.gen.polyml.addtolc(lcs[0], nparams=2, autoseasonsgap = 60.0)\n",
    "pycs.gen.polyml.addtolc(lcs[1], nparams=2, autoseasonsgap = 60.0)\n",
    "pycs.gen.polyml.addtolc(lcs[2], nparams=2, autoseasonsgap = 60.0)\n",
    "pycs.gen.polyml.addtolc(lcs[3], nparams=2, autoseasonsgap = 60.0)"
   ]
  },
  {
   "cell_type": "markdown",
   "metadata": {},
   "source": [
    "Now we will run it using the dispersion technique on our plain copies data, created earlier. "
   ]
  },
  {
   "cell_type": "code",
   "execution_count": null,
   "metadata": {
    "collapsed": false
   },
   "outputs": [
    {
     "name": "stdout",
     "output_type": "stream",
     "text": [
      "I have found 64 simulation pickles in sims_copies.\n",
      "I'll write my results into the directory sims_copies_opt_disp.\n",
      "(The latter already exists.)\n",
      "Initial conditions : \n",
      "[Trial/A]|poly/2222|\n",
      "[Trial/B](-7.000,0.000,0)|poly/2222|\n",
      "[Trial/C](-22.000,0.000,0)|poly/2222|\n",
      "[Trial/D](-65.000,0.000,0)|poly/2222|\n",
      "--- Casino running on simset copies, optset disp ---\n",
      "Read sims_copies/12_1466113841.34470.pkl\n",
      "Working for sims_copies_opt_disp/12_1466113841.34470_runresults.pkl, 10 simulations.\n",
      "Starting the curve shifting on a single CPU, no multiprocessing...\n",
      "Starting dispersion optimization of :\n",
      "[Trial/A](-9.382,0.000,0)|poly/2222|\n",
      "[Trial/B](-7.856,0.000,0)|poly/2222|\n",
      "[Trial/D](-69.726,0.000,0)|poly/2222|\n",
      "[Trial/C](-22.732,0.000,0)|poly/2222|\n",
      "Initial delays :\n",
      "AB   +1.53 | AD  -60.34 | AC  -13.35 | BD  -61.87 | BC  -14.88 | DC  +46.99\n",
      "Iteration 1 done, d2 =    3.664\n",
      "AB   -5.47 | AD  -68.63 | AC  -22.19 | BD  -63.16 | BC  -16.73 | DC  +46.44\n",
      "Iteration 2 done, d2 =    3.389\n",
      "AB   -5.64 | AD  -69.05 | AC  -22.41 | BD  -63.40 | BC  -16.77 | DC  +46.63\n",
      "Iteration 3 done, d2 =    3.383\n",
      "AB   -5.65 | AD  -69.07 | AC  -22.43 | BD  -63.42 | BC  -16.77 | DC  +46.65\n",
      "Iteration 4 done, d2 =    3.383\n",
      "AB   -5.65 | AD  -69.07 | AC  -22.43 | BD  -63.42 | BC  -16.77 | DC  +46.65\n",
      "Iteration 5 done, d2 =    3.383\n",
      "AB   -5.65 | AD  -69.07 | AC  -22.43 | BD  -63.42 | BC  -16.77 | DC  +46.65\n",
      "Done with optimization of :\n",
      "[Trial/A](-9.382,0.000,0)|poly/2222|\n",
      "[Trial/B](-15.037,-0.794,0)|poly/2222|\n",
      "[Trial/D](-78.456,-2.344,0)|poly/2222|\n",
      "[Trial/C](-31.809,-1.805,0)|poly/2222|\n",
      "Starting dispersion optimization of :\n",
      "[Trial/A](-6.288,0.000,0)|poly/2222|\n",
      "[Trial/C](-19.151,0.000,0)|poly/2222|\n",
      "[Trial/D](-74.530,0.000,0)|poly/2222|\n",
      "[Trial/B](-5.196,0.000,0)|poly/2222|\n",
      "Initial delays :\n",
      "AC  -12.86 | AD  -68.24 | AB   +1.09 | CD  -55.38 | CB  +13.95 | DB  +69.33\n"
     ]
    }
   ],
   "source": [
    "pycs.sim.run.multirun(\"copies\", lcs, disp, optset=\"disp\", tsrand=10.0)"
   ]
  },
  {
   "cell_type": "markdown",
   "metadata": {},
   "source": [
    "Now we will run it using the dispersion technique on our synthetic light curve data. "
   ]
  },
  {
   "cell_type": "code",
   "execution_count": null,
   "metadata": {
    "collapsed": true
   },
   "outputs": [],
   "source": [
    "pycs.sim.run.multirun(\"1Kset1\", lcs, disp, optset=\"disp\", tsrand=10.0)"
   ]
  },
  {
   "cell_type": "markdown",
   "metadata": {},
   "source": [
    "Finally, we will use our third technique, the regression difference technique. Let's define our variables. Remember, this line needs pymc to work. "
   ]
  },
  {
   "cell_type": "code",
   "execution_count": null,
   "metadata": {
    "collapsed": true
   },
   "outputs": [],
   "source": [
    "def regdiff(lcs):\n",
    "   return pycs.regdiff.multiopt.opt_ts(lcs, pd=5, scale=200.0, verbose=True)"
   ]
  },
  {
   "cell_type": "markdown",
   "metadata": {},
   "source": [
    "Now we will run it using the regression difference technique on our plain copies data, created earlier. "
   ]
  },
  {
   "cell_type": "code",
   "execution_count": null,
   "metadata": {
    "collapsed": true
   },
   "outputs": [],
   "source": [
    "pycs.sim.run.multirun(\"copies\", lcs, regdiff, optset=\"regdiff\", tsrand=10.0)"
   ]
  },
  {
   "cell_type": "markdown",
   "metadata": {},
   "source": [
    "Now we will run it using the regression difference technique on our synthetic light curve data. "
   ]
  },
  {
   "cell_type": "code",
   "execution_count": null,
   "metadata": {
    "collapsed": true
   },
   "outputs": [],
   "source": [
    "pycs.sim.run.multirun(\"1Kset1\", lcs, regdiff, optset=\"regdiff\", tsrand=10.0)"
   ]
  },
  {
   "cell_type": "markdown",
   "metadata": {},
   "source": [
    "## 6. Reading the Results from the Observed Light Curves"
   ]
  },
  {
   "cell_type": "markdown",
   "metadata": {},
   "source": [
    "This script will read the results from the copies of the observed light curves. "
   ]
  },
  {
   "cell_type": "code",
   "execution_count": null,
   "metadata": {
    "collapsed": false
   },
   "outputs": [],
   "source": [
    "dataresults = [\n",
    "        pycs.sim.run.collect(\"sims_copies_opt_disp\", \"red\", \"Dispersion-like technique\"),\n",
    "        pycs.sim.run.collect(\"sims_copies_opt_regdiff\", \"green\", \"Regression difference technique\")\n",
    "]"
   ]
  },
  {
   "cell_type": "markdown",
   "metadata": {},
   "source": [
    "Now, we can turn this into a simple histogram that will give the instrinic variance. It will be saved to a file called \"fig_instrinsicvariance.pdf\", for readability. The option `dataout=True` will save the delay point estimate, to be used below. "
   ]
  },
  {
   "cell_type": "code",
   "execution_count": null,
   "metadata": {
    "collapsed": true
   },
   "outputs": [],
   "source": [
    "pycs.sim.plot.hists(dataresults, r=5.0, nbins=100, showqs=False,\n",
    "        filename=\"fig_intrinsicvariance.pdf\", dataout=True)"
   ]
  },
  {
   "cell_type": "markdown",
   "metadata": {},
   "source": [
    "We read the results obtained on the synthetic curves. "
   ]
  },
  {
   "cell_type": "code",
   "execution_count": null,
   "metadata": {
    "collapsed": true
   },
   "outputs": [],
   "source": [
    "simresults = [\n",
    "        pycs.sim.run.collect(\"sims_1Kset1_opt_disp\", \"red\", \"Dispersion-like technique\"),\n",
    "        pycs.sim.run.collect(\"sims_1Kset1_opt_regdiff\", \"green\", \"Regression difference technique\")\n",
    "]"
   ]
  },
  {
   "cell_type": "markdown",
   "metadata": {},
   "source": [
    "Now we can perform the error analysis. This will be saved to a file called \"fig_measvstrue.pdf\". The option dataout=True will save the random and systematic error, to be used below."
   ]
  },
  {
   "cell_type": "code",
   "execution_count": null,
   "metadata": {
    "collapsed": true
   },
   "outputs": [],
   "source": [
    "pycs.sim.plot.measvstrue(simresults, errorrange=3.5, r=5.0, nbins = 10, binclip=True, binclipr=20.0,\n",
    "        plotpoints=False, filename=\"fig_measvstrue.pdf\", dataout=True)"
   ]
  },
  {
   "cell_type": "markdown",
   "metadata": {},
   "source": [
    "With the same data we can also show the relationship between measurements. This will be written to a file called \"fig_covplot.pdf\"."
   ]
  },
  {
   "cell_type": "code",
   "execution_count": null,
   "metadata": {
    "collapsed": true
   },
   "outputs": [],
   "source": [
    "pycs.sim.plot.covplot(simresults, filename=\"fig_covplot.pdf\")"
   ]
  },
  {
   "cell_type": "markdown",
   "metadata": {},
   "source": [
    "Finally we group the information saved by these steps to get the results in form of a summary plot. Let's define our variables. "
   ]
  },
  {
   "cell_type": "code",
   "execution_count": null,
   "metadata": {
    "collapsed": true
   },
   "outputs": [],
   "source": [
    "disp = (pycs.gen.util.readpickle(\"sims_copies_opt_disp_delays.pkl\"),\n",
    "        pycs.gen.util.readpickle(\"sims_1Kset1_opt_disp_errorbars.pkl\"))\n",
    "\n",
    "regdiff = (pycs.gen.util.readpickle(\"sims_copies_opt_regdiff_delays.pkl\"),\n",
    "        pycs.gen.util.readpickle(\"sims_1Kset1_opt_regdiff_errorbars.pkl\"))\n",
    "\n",
    "# spl = (pycs.gen.util.readpickle(\"sims_copies_opt_spl_delays.pkl\"),\n",
    "#        pycs.gen.util.readpickle(\"sims_1Kset1_opt_spl_errorbars.pkl\"))"
   ]
  },
  {
   "cell_type": "markdown",
   "metadata": {},
   "source": [
    "Now we can display our plot! It will be saved to a file called \"fig_delays.pdf\"."
   ]
  },
  {
   "cell_type": "code",
   "execution_count": null,
   "metadata": {
    "collapsed": true
   },
   "outputs": [],
   "source": [
    "pycs.sim.plot.newdelayplot([disp, regdiff, spl], rplot=6.0, displaytext=True,\n",
    "        filename = \"fig_delays.pdf\", refshifts=[{\"colour\":\"gray\", \"shifts\":(0, -5, -20, -70)}])"
   ]
  }
 ],
 "metadata": {
  "kernelspec": {
   "display_name": "Python 2",
   "language": "python",
   "name": "python2"
  },
  "language_info": {
   "codemirror_mode": {
    "name": "ipython",
    "version": 2
   },
   "file_extension": ".py",
   "mimetype": "text/x-python",
   "name": "python",
   "nbconvert_exporter": "python",
   "pygments_lexer": "ipython2",
   "version": "2.7.11"
  }
 },
 "nbformat": 4,
 "nbformat_minor": 0
}
