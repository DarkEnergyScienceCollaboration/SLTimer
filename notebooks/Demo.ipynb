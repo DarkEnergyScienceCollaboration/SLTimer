{
 "cells": [
  {
   "cell_type": "markdown",
   "metadata": {},
   "source": [
    "# SLTimer Demo\n",
    "\n",
    "In this notebook we will show how `SLTimer` can be used to estimate a time delay from some example data."
   ]
  },
  {
   "cell_type": "markdown",
   "metadata": {},
   "source": [
    "## Obtaining PyCS and its Sample Data \n",
    "\n",
    "We will use the \"demo1\" 4-image light curve data that comes with the `PyCS` repository. Let's download this and use `PyCS` to analyze it, before showing the same operations performed by SLTimer."
   ]
  },
  {
   "cell_type": "markdown",
   "metadata": {},
   "source": [
    "This function `imports` the operating system and the url library package which enables us to collect URLs."
   ]
  },
  {
   "cell_type": "code",
   "execution_count": null,
   "metadata": {
    "collapsed": true
   },
   "outputs": [],
   "source": [
    "import os, urllib\n",
    "from __future__ import print_function"
   ]
  },
  {
   "cell_type": "markdown",
   "metadata": {},
   "source": [
    "This script defines our variables for `webdir` and `rdbfile`. `webdir` makes a copy of PyCS from GitHub so we can utilize their data. `rdbfile` calls trialcurves.txt, the text file that holds the data that we are going to process. `url` concatenates the paths of `webdir` and `rdbfile`. If rdbfile is not there, use url to copy the file locally."
   ]
  },
  {
   "cell_type": "code",
   "execution_count": null,
   "metadata": {
    "collapsed": false
   },
   "outputs": [],
   "source": [
    "webdir = 'https://raw.githubusercontent.com/COSMOGRAIL/PyCS/master/demo/demo1/data/'\n",
    "rdbfile = 'trialcurves.txt'\n",
    "    \n",
    "url = os.path.join(webdir, rdbfile)\n",
    "if not os.path.isfile(rdbfile):\n",
    "    urllib.urlretrieve(url, rdbfile)"
   ]
  },
  {
   "cell_type": "markdown",
   "metadata": {},
   "source": [
    "Not sure what this code's intended purpose was?"
   ]
  },
  {
   "cell_type": "code",
   "execution_count": null,
   "metadata": {
    "collapsed": false
   },
   "outputs": [],
   "source": [
    "!wc -l $rdbfile"
   ]
  },
  {
   "cell_type": "markdown",
   "metadata": {},
   "source": [
    "In this first script we import `PyCS`, the software needed to process the data. We also call `matplotlib` to be used later as it is needed."
   ]
  },
  {
   "cell_type": "code",
   "execution_count": null,
   "metadata": {
    "collapsed": true
   },
   "outputs": [],
   "source": [
    "import pycs\n",
    "%matplotlib inline"
   ]
  },
  {
   "cell_type": "markdown",
   "metadata": {},
   "source": [
    "## Displaying the Light Curve Data: Script 1 "
   ]
  },
  {
   "cell_type": "markdown",
   "metadata": {},
   "source": [
    "This script calls the data from the rdbfile, in this case from a simple text file with headers. (Note: other formats are supported as well.)"
   ]
  },
  {
   "cell_type": "code",
   "execution_count": null,
   "metadata": {
    "collapsed": true
   },
   "outputs": [],
   "source": [
    "lcs = [\n",
    "        pycs.gen.lc.rdbimport(rdbfile, 'A', 'mag_A', 'magerr_A', \"Trial\"),\n",
    "        pycs.gen.lc.rdbimport(rdbfile, 'B', 'mag_B', 'magerr_B', \"Trial\"),\n",
    "        pycs.gen.lc.rdbimport(rdbfile, 'C', 'mag_C', 'magerr_C', \"Trial\"),\n",
    "        pycs.gen.lc.rdbimport(rdbfile, 'D', 'mag_D', 'magerr_D', \"Trial\")\n",
    "]"
   ]
  },
  {
   "cell_type": "markdown",
   "metadata": {},
   "source": [
    "Let's add some color to this plot! This script gives each curve a different color. "
   ]
  },
  {
   "cell_type": "code",
   "execution_count": null,
   "metadata": {
    "collapsed": true
   },
   "outputs": [],
   "source": [
    "pycs.gen.mrg.colourise(lcs) "
   ]
  },
  {
   "cell_type": "markdown",
   "metadata": {},
   "source": [
    "This script shifts the data by the \"true\" time shifts, for display purposes. We will find time shifts for ourselves later in the programming."
   ]
  },
  {
   "cell_type": "code",
   "execution_count": null,
   "metadata": {
    "collapsed": true
   },
   "outputs": [],
   "source": [
    "lcs[1].shifttime(-5.0)\n",
    "lcs[2].shifttime(-20.0)\n",
    "lcs[3].shifttime(-70.0)"
   ]
  },
  {
   "cell_type": "markdown",
   "metadata": {},
   "source": [
    "Now to display our plot! "
   ]
  },
  {
   "cell_type": "code",
   "execution_count": null,
   "metadata": {
    "collapsed": true
   },
   "outputs": [],
   "source": [
    "pycs.gen.lc.display(lcs)"
   ]
  },
  {
   "cell_type": "markdown",
   "metadata": {},
   "source": [
    "The most *IMPORTANT* step in this process. Write this information to a pickle file using the code below."
   ]
  },
  {
   "cell_type": "code",
   "execution_count": null,
   "metadata": {
    "collapsed": true
   },
   "outputs": [],
   "source": [
    "pycs.gen.util.writepickle(lcs, \"/data/trialcurves.pkl\")"
   ]
  },
  {
   "cell_type": "markdown",
   "metadata": {},
   "source": [
    "In further scripts, you can now import the data by reading this file. "
   ]
  },
  {
   "cell_type": "code",
   "execution_count": null,
   "metadata": {
    "collapsed": true
   },
   "outputs": [],
   "source": [
    "lcs = pycs.gen.util.readpickle(\"/data/trialcurves.pkl\")"
   ]
  },
  {
   "cell_type": "markdown",
   "metadata": {},
   "source": [
    "We will now undo these shifts, and from now on we will \"forget\" about the true delays. "
   ]
  },
  {
   "cell_type": "code",
   "execution_count": null,
   "metadata": {
    "collapsed": true
   },
   "outputs": [],
   "source": [
    "for l in lcs:\n",
    "        l.resetshifts()"
   ]
  },
  {
   "cell_type": "markdown",
   "metadata": {},
   "source": [
    "You can do a variety of things with this file to find out more information. For example, running the script below will provide you with the number of points, gap length, shifts, median, mean, maximum, minimum, and the colour it is plotted in.  "
   ]
  },
  {
   "cell_type": "code",
   "execution_count": null,
   "metadata": {
    "collapsed": true
   },
   "outputs": [],
   "source": [
    "for l in lcs:\n",
    "        print l.longinfo()"
   ]
  },
  {
   "cell_type": "markdown",
   "metadata": {},
   "source": [
    "To save this figure to a file: "
   ]
  },
  {
   "cell_type": "code",
   "execution_count": null,
   "metadata": {
    "collapsed": true
   },
   "outputs": [],
   "source": [
    "pycs.gen.lc.display(lcs, filename=\"fig_trialcurves.pdf\")"
   ]
  },
  {
   "cell_type": "markdown",
   "metadata": {},
   "source": [
    "Another thing we can do is export the data into a text file called \"out_trialcurves.txt\". In this case, since we have not altered the original data, this file will contain the same information as trialcurves.txt."
   ]
  },
  {
   "cell_type": "code",
   "execution_count": null,
   "metadata": {
    "collapsed": true
   },
   "outputs": [],
   "source": [
    "for l in lcs:\n",
    "    l.resetshifts() \n",
    "    \n",
    "pycs.gen.util.multilcsexport(lcs, \"out_trialcurves.txt\", separator=\"\\t\", verbose=True, properties=None)"
   ]
  }
 ],
 "metadata": {
  "kernelspec": {
   "display_name": "Python 2",
   "language": "python",
   "name": "python2"
  },
  "language_info": {
   "codemirror_mode": {
    "name": "ipython",
    "version": 2
   },
   "file_extension": ".py",
   "mimetype": "text/x-python",
   "name": "python",
   "nbconvert_exporter": "python",
   "pygments_lexer": "ipython2",
   "version": "2.7.11"
  }
 },
 "nbformat": 4,
 "nbformat_minor": 0
}
