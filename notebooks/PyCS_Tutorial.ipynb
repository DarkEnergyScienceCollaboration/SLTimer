{
 "cells": [
  {
   "cell_type": "markdown",
   "metadata": {},
   "source": [
    "# PyCS Tutorial\n",
    "\n",
    "In this notebook we work through the `PyCS` \"demo1\" tutorial, to show how the `PyCS` package enables the estimation of a lens time delay from example light curve data. The original tutorial is in the form of a set of 6 scripts, that can be viewed on the `PyCS` website [here](http://pycs.readthedocs.io/en/latest/tutorial/demo1.html). The demo1 code itself can be browsed in the `PyCS` GitHub repository [here](https://github.com/COSMOGRAIL/PyCS/tree/master/demo/demo1)."
   ]
  },
  {
   "cell_type": "markdown",
   "metadata": {},
   "source": [
    "## 1. Obtaining PyCS and its Sample Data \n",
    "\n",
    "The \"demo1\" tutorial uses a 4-image light curve dataset that comes with the `PyCS` repository. Let's download this and use `PyCS` to analyze it. If you haven't yet followed the [`SLTimer` installation instructions](https://github.com/DarkEnergyScienceCollaboration/SLTimer/blob/master/INSTALL.md) you should do that before attempting to `import pycs`. "
   ]
  },
  {
   "cell_type": "code",
   "execution_count": null,
   "metadata": {
    "collapsed": true
   },
   "outputs": [],
   "source": [
    "import os, urllib\n",
    "from __future__ import print_function\n",
    "import pycs\n",
    "%matplotlib inline"
   ]
  },
  {
   "cell_type": "markdown",
   "metadata": {},
   "source": [
    "We need to grab `rdbfile` (the demo1 dataset) from `webdir` (the appropriate `PyCS` GitHub folder). We only need to download `rdbfile` if it doesn't already exist."
   ]
  },
  {
   "cell_type": "code",
   "execution_count": null,
   "metadata": {
    "collapsed": false
   },
   "outputs": [],
   "source": [
    "webdir = 'https://raw.githubusercontent.com/COSMOGRAIL/PyCS/master/demo/demo1/data/'\n",
    "rdbfile = 'trialcurves.txt'\n",
    "    \n",
    "url = os.path.join(webdir, rdbfile)\n",
    "if not os.path.isfile(rdbfile):\n",
    "    urllib.urlretrieve(url, rdbfile)\n",
    "    \n",
    "!wc -l $rdbfile"
   ]
  },
  {
   "cell_type": "markdown",
   "metadata": {},
   "source": [
    "## 2. Displaying the Light Curve Data"
   ]
  },
  {
   "cell_type": "markdown",
   "metadata": {},
   "source": [
    "First lets read in the data from the rdbfile, in this case from a simple text file with a one-line header. (Other formats are supported as well.)"
   ]
  },
  {
   "cell_type": "code",
   "execution_count": null,
   "metadata": {
    "collapsed": false
   },
   "outputs": [],
   "source": [
    "lcs = [\n",
    "        pycs.gen.lc.rdbimport(rdbfile, 'A', 'mag_A', 'magerr_A', \"Trial\"),\n",
    "        pycs.gen.lc.rdbimport(rdbfile, 'B', 'mag_B', 'magerr_B', \"Trial\"),\n",
    "        pycs.gen.lc.rdbimport(rdbfile, 'C', 'mag_C', 'magerr_C', \"Trial\"),\n",
    "        pycs.gen.lc.rdbimport(rdbfile, 'D', 'mag_D', 'magerr_D', \"Trial\")\n",
    "]"
   ]
  },
  {
   "cell_type": "markdown",
   "metadata": {},
   "source": [
    "We'll want to plot each light curve with a different color:"
   ]
  },
  {
   "cell_type": "code",
   "execution_count": null,
   "metadata": {
    "collapsed": true
   },
   "outputs": [],
   "source": [
    "pycs.gen.mrg.colourise(lcs) "
   ]
  },
  {
   "cell_type": "markdown",
   "metadata": {},
   "source": [
    "If we shift the data by the \"true\" time shifts, the light curves will line up nicely for display purposes. We will infer the time delays from the data later in this notebook."
   ]
  },
  {
   "cell_type": "code",
   "execution_count": null,
   "metadata": {
    "collapsed": true
   },
   "outputs": [],
   "source": [
    "lcs[1].shifttime(-5.0)\n",
    "lcs[2].shifttime(-20.0)\n",
    "lcs[3].shifttime(-70.0)"
   ]
  },
  {
   "cell_type": "markdown",
   "metadata": {},
   "source": [
    "Now to display our plot! "
   ]
  },
  {
   "cell_type": "code",
   "execution_count": null,
   "metadata": {
    "collapsed": false
   },
   "outputs": [],
   "source": [
    "pycs.gen.lc.display(lcs, figsize=(20, 7), jdrange=(53900, 55500))"
   ]
  },
  {
   "cell_type": "markdown",
   "metadata": {},
   "source": [
    "To save this figure to a file: "
   ]
  },
  {
   "cell_type": "code",
   "execution_count": null,
   "metadata": {
    "collapsed": false
   },
   "outputs": [],
   "source": [
    "pycs.gen.lc.display(lcs, filename=\"fig_trialcurves_true-shifted.pdf\")"
   ]
  },
  {
   "cell_type": "markdown",
   "metadata": {},
   "source": [
    "It's useful to store the lightcurve objects in a pickle for easy re-starting - here's the function for doing that:"
   ]
  },
  {
   "cell_type": "code",
   "execution_count": null,
   "metadata": {
    "collapsed": false
   },
   "outputs": [],
   "source": [
    "pycs.gen.util.writepickle(lcs, \"trialcurves_true-shifted.pkl\")"
   ]
  },
  {
   "cell_type": "markdown",
   "metadata": {},
   "source": [
    "In further scripts, you can now import the data by reading this file. "
   ]
  },
  {
   "cell_type": "code",
   "execution_count": null,
   "metadata": {
    "collapsed": false
   },
   "outputs": [],
   "source": [
    "lcs = pycs.gen.util.readpickle(\"trialcurves_true-shifted.pkl\")"
   ]
  },
  {
   "cell_type": "markdown",
   "metadata": {},
   "source": [
    "We will now undo these shifts, and from now on we will \"forget\" about the true delays. "
   ]
  },
  {
   "cell_type": "code",
   "execution_count": null,
   "metadata": {
    "collapsed": true
   },
   "outputs": [],
   "source": [
    "for l in lcs:\n",
    "        l.resetshifts()"
   ]
  },
  {
   "cell_type": "markdown",
   "metadata": {},
   "source": [
    "You can do a variety of things with this file to find out more information. For example, the `longinfo()` method will provide you with the number of points, gap length, shifts, median, mean, maximum, minimum, and the colour it is plotted in.  "
   ]
  },
  {
   "cell_type": "code",
   "execution_count": null,
   "metadata": {
    "collapsed": false
   },
   "outputs": [],
   "source": [
    "for l in lcs: print(l.longinfo())"
   ]
  },
  {
   "cell_type": "markdown",
   "metadata": {},
   "source": [
    "Another thing we can do is export the data into a text file called \"out_trialcurves.txt\". In this case, since we have not altered the original data, this file will contain the same information as trialcurves.txt."
   ]
  },
  {
   "cell_type": "code",
   "execution_count": null,
   "metadata": {
    "collapsed": false
   },
   "outputs": [],
   "source": [
    "pycs.gen.util.multilcsexport(lcs, \"out_trialcurves.txt\", separator=\"\\t\", verbose=True, properties=None)"
   ]
  },
  {
   "cell_type": "markdown",
   "metadata": {},
   "source": [
    "## 3. Fitting the Light Curves with a Free-Knot Spline Model"
   ]
  },
  {
   "cell_type": "markdown",
   "metadata": {},
   "source": [
    "Let's now fit a spline model to our lightcurve data. At first we'll ignore microlensing and just set up a single spline curve to capture the intrinsic AGN variability. Then we'll add in additional curves to model the microlensing, and refine the fit."
   ]
  },
  {
   "cell_type": "markdown",
   "metadata": {},
   "source": [
    "### 3.1 Basic Fit\n",
    "\n",
    "`PyCS` contains library functions for optimizing such a model, but the optimization has to be carried out according to a user-defined schedule. Shown here is a simple attempt to get a multi-purpose schedule for optimizing a free-knot spline model: we optimize the spline three times, twice roughly with two different knotsteps, and then once to fine-tune the parameters. "
   ]
  },
  {
   "cell_type": "code",
   "execution_count": null,
   "metadata": {
    "collapsed": true
   },
   "outputs": [],
   "source": [
    "def spl(lcs):\n",
    "    spline = pycs.spl.topopt.opt_rough(lcs, nit=5, knotstep=50)\n",
    "    for l in lcs:\n",
    "        l.resetml()\n",
    "    spline = pycs.spl.topopt.opt_rough(lcs, nit=5, knotstep=30)\n",
    "    spline = pycs.spl.topopt.opt_fine(lcs, nit=10, knotstep=20)\n",
    "    return spline"
   ]
  },
  {
   "cell_type": "markdown",
   "metadata": {},
   "source": [
    "This optimization function (and each subroutine it calls) returns a `spline` object. "
   ]
  },
  {
   "cell_type": "code",
   "execution_count": null,
   "metadata": {
    "collapsed": false
   },
   "outputs": [],
   "source": [
    "spline = spl(lcs)"
   ]
  },
  {
   "cell_type": "markdown",
   "metadata": {},
   "source": [
    "Now let's print out the measured time delays, computed from the current time shifts of each curve. Note that the `lcs` objects now contain shifts provided to them by the `spline` model. "
   ]
  },
  {
   "cell_type": "code",
   "execution_count": null,
   "metadata": {
    "collapsed": false,
    "scrolled": false
   },
   "outputs": [],
   "source": [
    "basic_time_delays = pycs.gen.lc.getnicetimedelays(lcs, separator=\"\\n\", sorted=True)\n",
    "print(\"Time Delays (no microlensing):\")\n",
    "print(basic_time_delays)"
   ]
  },
  {
   "cell_type": "markdown",
   "metadata": {},
   "source": [
    "We can now redisplay our light curve plot, but with the spline model overlaid and the inferred shifts applied. Remember, it won't look very good, as the curves do not overlap without a microlensing model. "
   ]
  },
  {
   "cell_type": "code",
   "execution_count": null,
   "metadata": {
    "collapsed": false
   },
   "outputs": [],
   "source": [
    "pycs.gen.lc.display(lcs, [spline], knotsize=0.01, figsize=(20, 7), jdrange=(53900, 55500))"
   ]
  },
  {
   "cell_type": "markdown",
   "metadata": {},
   "source": [
    "### 3.2 Including Microlensing\n",
    "\n",
    "Now let's factor in four independent polynomial curves to account for any microlensing in our light curves. "
   ]
  },
  {
   "cell_type": "code",
   "execution_count": null,
   "metadata": {
    "collapsed": true
   },
   "outputs": [],
   "source": [
    "pycs.gen.polyml.addtolc(lcs[1], nparams=2, autoseasonsgap=600.0)\n",
    "pycs.gen.polyml.addtolc(lcs[2], nparams=3, autoseasonsgap=600.0)\n",
    "pycs.gen.polyml.addtolc(lcs[3], nparams=3, autoseasonsgap=600.0)"
   ]
  },
  {
   "cell_type": "markdown",
   "metadata": {},
   "source": [
    "Now, let's try the model optimization again. The result should be much better! "
   ]
  },
  {
   "cell_type": "code",
   "execution_count": null,
   "metadata": {
    "collapsed": false
   },
   "outputs": [],
   "source": [
    "spline = spl(lcs) "
   ]
  },
  {
   "cell_type": "code",
   "execution_count": null,
   "metadata": {
    "collapsed": false
   },
   "outputs": [],
   "source": [
    "pycs.gen.lc.display(lcs, [spline], knotsize=0.01, figsize=(20, 7), jdrange=(53900, 55500))"
   ]
  },
  {
   "cell_type": "markdown",
   "metadata": {},
   "source": [
    "The new time delays should show the difference once microlensing is factored in. We'll compare our previous time delay output to this output. "
   ]
  },
  {
   "cell_type": "code",
   "execution_count": null,
   "metadata": {
    "collapsed": false
   },
   "outputs": [],
   "source": [
    "polynomial_microlensing_time_delays = pycs.gen.lc.getnicetimedelays(lcs, separator=\"\\n\", sorted=True)\n",
    "print(\"Time Delays (microlensing included, with polynomials):\")\n",
    "print(polynomial_microlensing_time_delays)\n",
    "\n",
    "print(\"cf. Time Delays (no microlensing):\")\n",
    "print(basic_time_delays)"
   ]
  },
  {
   "cell_type": "markdown",
   "metadata": {},
   "source": [
    "### 3.3 Modeling Microlensing with Splines\n",
    "\n",
    "If we add spline models for the microlensing, they displace the polynomial model:"
   ]
  },
  {
   "cell_type": "code",
   "execution_count": null,
   "metadata": {
    "collapsed": false
   },
   "outputs": [],
   "source": [
    "pycs.gen.splml.addtolc(lcs[0], knotstep=150)\n",
    "pycs.gen.splml.addtolc(lcs[1], knotstep=150)\n",
    "pycs.gen.splml.addtolc(lcs[2], knotstep=150)\n",
    "pycs.gen.splml.addtolc(lcs[3], knotstep=150)"
   ]
  },
  {
   "cell_type": "markdown",
   "metadata": {},
   "source": [
    "Let's re-optimize and see what happens to the time delays:"
   ]
  },
  {
   "cell_type": "code",
   "execution_count": null,
   "metadata": {
    "collapsed": false
   },
   "outputs": [],
   "source": [
    "spline = spl(lcs)"
   ]
  },
  {
   "cell_type": "code",
   "execution_count": null,
   "metadata": {
    "collapsed": false,
    "scrolled": true
   },
   "outputs": [],
   "source": [
    "spline_microlensing_time_delays = pycs.gen.lc.getnicetimedelays(lcs, separator=\"\\n\", sorted=True)\n",
    "print(\"Time Delays (microlensing included, with splines):\")\n",
    "print(spline_microlensing_time_delays)\n",
    "\n",
    "print(\"cf. Time Delays (microlensing included, with polynomials):\")\n",
    "print(polynomial_microlensing_time_delays)"
   ]
  },
  {
   "cell_type": "markdown",
   "metadata": {},
   "source": [
    "We see differences, but the results from the two types of microlensing model are much closer together than either of them are with the time delays from the \"no microlensing\" model. \n",
    "\n",
    "What do these spline microlensing models look like?"
   ]
  },
  {
   "cell_type": "code",
   "execution_count": null,
   "metadata": {
    "collapsed": false
   },
   "outputs": [],
   "source": [
    "pycs.gen.lc.display(lcs, [spline], knotsize=0.01, figsize=(20, 7), jdrange=(53900, 55500))"
   ]
  },
  {
   "cell_type": "markdown",
   "metadata": {},
   "source": [
    "Let's save this to a PDF figure:"
   ]
  },
  {
   "cell_type": "code",
   "execution_count": null,
   "metadata": {
    "collapsed": false
   },
   "outputs": [],
   "source": [
    "pycs.gen.lc.display(lcs, [spline], knotsize=0.01, figsize=(20, 7), jdrange=(53900, 55500),filename=\"fig_modelfit.pdf\")"
   ]
  },
  {
   "cell_type": "markdown",
   "metadata": {},
   "source": [
    "Now that we have a well-optimized model, lets save it and the shifted light curves to a pickle file that we can use later."
   ]
  },
  {
   "cell_type": "code",
   "execution_count": null,
   "metadata": {
    "collapsed": false
   },
   "outputs": [],
   "source": [
    "pycs.gen.util.writepickle((lcs, spline), \"optspline.pkl\")"
   ]
  },
  {
   "cell_type": "markdown",
   "metadata": {},
   "source": [
    "## 4. Estimating the Time Delay Uncertanties"
   ]
  },
  {
   "cell_type": "markdown",
   "metadata": {},
   "source": [
    "Error estimation with `PyCS` is performed by re-sampling the data, re-optimizing the model, and accumulating statistics about the resulting time delays. \n",
    "\n",
    "To evaluate the intrinsic variance of the optimizer, we make `Ncopies` copies of the dataset, and re-optimize the model for each one. To probe the width of the likelihood function itself, we generate and use `Nmocks` synthetic datasets, with slightly different time delays. For the latter step, we need to read in an optimized model and its shifted light curves. In each case we'll need to collect together the many optimized light curves' time delays at the end, and compute some statistics."
   ]
  },
  {
   "cell_type": "markdown",
   "metadata": {},
   "source": [
    "### 4.1  Re-sampling the Light Curve Data\n",
    "\n",
    "First, the plain copies:"
   ]
  },
  {
   "cell_type": "code",
   "execution_count": null,
   "metadata": {
    "collapsed": false
   },
   "outputs": [],
   "source": [
    "n, npkl = 1, 4\n",
    "Ncopies = n*npkl\n",
    "print(\"Making\",Ncopies,\"copies of the original dataset:\")\n",
    "pycs.sim.draw.multidraw(lcs, onlycopy=True, n=n, npkl=npkl, simset=\"copies\")"
   ]
  },
  {
   "cell_type": "markdown",
   "metadata": {},
   "source": [
    "Now the synthetic light curves:"
   ]
  },
  {
   "cell_type": "code",
   "execution_count": null,
   "metadata": {
    "collapsed": false
   },
   "outputs": [],
   "source": [
    "(modellcs, modelspline)  = pycs.gen.util.readpickle(\"optspline.pkl\")"
   ]
  },
  {
   "cell_type": "markdown",
   "metadata": {},
   "source": [
    "We want each synthetic light curve to have slightly different underlying microlensing signals as well as a slightly different set of time delays. This is achieved via a set of \"tweak\" functions, that implement some small scale extrinsic variability when we generate the synthetic curves. Note that the control parameters `beta`, `sigma`, and `fmin` have to be *asserted*, these values can be changed. "
   ]
  },
  {
   "cell_type": "code",
   "execution_count": null,
   "metadata": {
    "collapsed": true
   },
   "outputs": [],
   "source": [
    "def Atweakml(lcs):\n",
    "    return pycs.sim.twk.tweakml(lcs, beta=-1.5, sigma=0.25, fmin=1/500.0, fmax=None, psplot=False)\n",
    "\n",
    "def Btweakml(lcs):\n",
    "    return pycs.sim.twk.tweakml(lcs, beta=-1.0, sigma=0.9, fmin=1/500.0, fmax=None, psplot=False)\n",
    "\n",
    "def Ctweakml(lcs):\n",
    "    return pycs.sim.twk.tweakml(lcs, beta=-1.0, sigma=1.5, fmin=1/500.0, fmax=None, psplot=False)\n",
    "\n",
    "def Dtweakml(lcs):\n",
    "    return pycs.sim.twk.tweakml(lcs, beta=-0.0, sigma=4.5, fmin=1/500.0, fmax=None, psplot=False)"
   ]
  },
  {
   "cell_type": "markdown",
   "metadata": {},
   "source": [
    "At this place, *only* if you know what you are doing, you can manually adjust the microlensing or the delays. If not, run this script. This will run `n` simulations for each element in the pickle file. "
   ]
  },
  {
   "cell_type": "code",
   "execution_count": null,
   "metadata": {
    "collapsed": false
   },
   "outputs": [],
   "source": [
    "n, npkl = 1, 4\n",
    "Nmocks = n*npkl\n",
    "truetsr = 8.0\n",
    "print(\"Making\",Nmocks,\"synthetic datasets, varying time delays by +/-\",truetsr/2.0,\"days\")\n",
    "pycs.sim.draw.saveresiduals(modellcs, modelspline)\n",
    "pycs.sim.draw.multidraw(modellcs, modelspline, n=n, npkl=npkl, simset=\"1Kset1\",\n",
    "        truetsr=truetsr, tweakml=[Atweakml, Btweakml, Ctweakml, Dtweakml])"
   ]
  },
  {
   "cell_type": "markdown",
   "metadata": {},
   "source": [
    "Note that we chose the name of our set of synthetic light curves \"1Kset1\" via the `simset` kwarg. \"truetsr=8.0\" means that the synthetic curves will get random true time shifts in a range of about 8.0 days around the time shifts of the model `lcs` objects. "
   ]
  },
  {
   "cell_type": "markdown",
   "metadata": {},
   "source": [
    "### 4.2 Re-running the Model Fits\n",
    "\n",
    "Now, we will run the free-knot spline technique using the plain copies we made earlier of the data. This will take a while: we're doing `Ncopies` separate model optimizations."
   ]
  },
  {
   "cell_type": "code",
   "execution_count": null,
   "metadata": {
    "collapsed": false
   },
   "outputs": [],
   "source": [
    "pycs.sim.run.multirun(\"copies\", lcs, spl, optset=\"spl\", tsrand=10.0, keepopt=True)"
   ]
  },
  {
   "cell_type": "markdown",
   "metadata": {},
   "source": [
    "Now, we will run the free-knot spline technique on each of the `Nmocks` synthetic light curve datasets we made earlier - again, this will take a while. Note the `keepopt=True` kwarg: this will make it easier to read the residuals from the synthetic curves with the residuals from the observed data. You can change the name \"optset\" to anything, though it should best reflect the name of the full method, including the settings of the microlensing. "
   ]
  },
  {
   "cell_type": "code",
   "execution_count": null,
   "metadata": {
    "collapsed": false
   },
   "outputs": [],
   "source": [
    "pycs.sim.run.multirun(\"1Kset1\", lcs, spl, optset=\"spl\", tsrand=10.0, keepopt=True)"
   ]
  },
  {
   "cell_type": "markdown",
   "metadata": {},
   "source": [
    "> Note: The two lines of code above do not (always) run, possibly due to a bug that should be reported to PyCS. Here is the resulting error message. \n",
    ">\n",
    "> `RuntimeError: Knot spacing min = 7.283257, epsilon = 10.000000`"
   ]
  },
  {
   "cell_type": "markdown",
   "metadata": {},
   "source": [
    "** _Warning: All code below this point is untested!_**"
   ]
  },
  {
   "cell_type": "markdown",
   "metadata": {},
   "source": [
    "### 4.3 Collecting the Outputs\n",
    "\n"
   ]
  },
  {
   "cell_type": "markdown",
   "metadata": {},
   "source": [
    "First, let's get the results from the copies of the observed light curves. "
   ]
  },
  {
   "cell_type": "code",
   "execution_count": null,
   "metadata": {
    "collapsed": false
   },
   "outputs": [],
   "source": [
    "dataresults = [\n",
    "        pycs.sim.run.collect(\"sims_copies_opt_spl\", \"blue\", \"Free-knot spline technique\")\n",
    "]"
   ]
  },
  {
   "cell_type": "markdown",
   "metadata": {},
   "source": [
    "Now, we can turn this into a simple histogram that will give the instrinic variance. It will be saved to a file called \"fig_instrinsicvariance.pdf\", for readability. The option `dataout=True` will save the delay point estimate, to be used below. "
   ]
  },
  {
   "cell_type": "code",
   "execution_count": null,
   "metadata": {
    "collapsed": true
   },
   "outputs": [],
   "source": [
    "pycs.sim.plot.hists(dataresults, r=5.0, nbins=100, showqs=False,\n",
    "        filename=\"fig_intrinsicvariance.pdf\", dataout=True)"
   ]
  },
  {
   "cell_type": "markdown",
   "metadata": {},
   "source": [
    "We read the results obtained on the synthetic curves. "
   ]
  },
  {
   "cell_type": "code",
   "execution_count": null,
   "metadata": {
    "collapsed": true
   },
   "outputs": [],
   "source": [
    "simresults = [\n",
    "        pycs.sim.run.collect(\"sims_1Kset1_opt_spl\", \"blue\", \"Free-knot spline technique\")\n",
    "]"
   ]
  },
  {
   "cell_type": "markdown",
   "metadata": {},
   "source": [
    "Now we can perform the error analysis. This will be saved to a file called \"fig_measvstrue.pdf\". The option `dataout=True` will save the random and systematic error, to be used below."
   ]
  },
  {
   "cell_type": "code",
   "execution_count": null,
   "metadata": {
    "collapsed": true
   },
   "outputs": [],
   "source": [
    "pycs.sim.plot.measvstrue(simresults, errorrange=3.5, r=5.0, nbins = 10, binclip=True, binclipr=20.0,\n",
    "        plotpoints=False, filename=\"fig_measvstrue.pdf\", dataout=True)"
   ]
  },
  {
   "cell_type": "markdown",
   "metadata": {},
   "source": [
    "With the same data we can also show the relationship between measurements. This will be written to a file called \"fig_covplot.pdf\"."
   ]
  },
  {
   "cell_type": "code",
   "execution_count": null,
   "metadata": {
    "collapsed": true
   },
   "outputs": [],
   "source": [
    "pycs.sim.plot.covplot(simresults, filename=\"fig_covplot.pdf\")"
   ]
  },
  {
   "cell_type": "markdown",
   "metadata": {},
   "source": [
    "Finally we group the information saved by these steps to get the results in form of a summary plot. Let's define our variables. "
   ]
  },
  {
   "cell_type": "code",
   "execution_count": null,
   "metadata": {
    "collapsed": true
   },
   "outputs": [],
   "source": [
    "spl = (pycs.gen.util.readpickle(\"sims_copies_opt_spl_delays.pkl\"),\n",
    "       pycs.gen.util.readpickle(\"sims_1Kset1_opt_spl_errorbars.pkl\"))"
   ]
  },
  {
   "cell_type": "markdown",
   "metadata": {},
   "source": [
    "Now we can display our plot! It will be saved to a file called \"fig_delays.pdf\"."
   ]
  },
  {
   "cell_type": "code",
   "execution_count": null,
   "metadata": {
    "collapsed": true
   },
   "outputs": [],
   "source": [
    "pycs.sim.plot.newdelayplot([disp, regdiff, spl], rplot=6.0, displaytext=True,\n",
    "        filename = \"fig_delays.pdf\", refshifts=[{\"colour\":\"gray\", \"shifts\":(0, -5, -20, -70)}])"
   ]
  },
  {
   "cell_type": "markdown",
   "metadata": {},
   "source": [
    "## 5. Comparing Different Curve-shifting Techniques\n",
    "\n",
    "`PyCS` supports a number of different time delay estimation methods, as well as the free-knot spline curve-shifting model. Let's try a couple more of them now, and compare with the spline model (which we already optimized and explored). We'll start the other two the same way, on the original data and with a reasonable set of guessed initial shifts, for a fair comparison."
   ]
  },
  {
   "cell_type": "code",
   "execution_count": null,
   "metadata": {
    "collapsed": false
   },
   "outputs": [],
   "source": [
    "lcs[1].shifttime(-7.0)\n",
    "lcs[2].shifttime(-22.0)\n",
    "lcs[3].shifttime(-65.0)"
   ]
  },
  {
   "cell_type": "markdown",
   "metadata": {},
   "source": [
    "### 5.1 Dispersion Method\n",
    "\n",
    "Our second technique will be the dispersion technique. First, let's run the code needed to define our variables. "
   ]
  },
  {
   "cell_type": "code",
   "execution_count": null,
   "metadata": {
    "collapsed": true
   },
   "outputs": [],
   "source": [
    "rawdispersionmethod = lambda lc1, lc2 : pycs.disp.disps.linintnp(lc1, lc2, interpdist = 30.0)\n",
    "dispersionmethod = lambda lc1, lc2 : pycs.disp.disps.symmetrize(lc1, lc2, rawdispersionmethod)\n",
    "def disp(lcs):\n",
    "    return pycs.disp.topopt.opt_full(lcs, rawdispersionmethod, nit=5, verbose=True)"
   ]
  },
  {
   "cell_type": "markdown",
   "metadata": {},
   "source": [
    "Next, let's factor in our microlensing models (polynomials). "
   ]
  },
  {
   "cell_type": "code",
   "execution_count": null,
   "metadata": {
    "collapsed": false
   },
   "outputs": [],
   "source": [
    "pycs.gen.polyml.addtolc(lcs[0], nparams=2, autoseasonsgap = 60.0)\n",
    "pycs.gen.polyml.addtolc(lcs[1], nparams=2, autoseasonsgap = 60.0)\n",
    "pycs.gen.polyml.addtolc(lcs[2], nparams=2, autoseasonsgap = 60.0)\n",
    "pycs.gen.polyml.addtolc(lcs[3], nparams=2, autoseasonsgap = 60.0)"
   ]
  },
  {
   "cell_type": "markdown",
   "metadata": {},
   "source": [
    "Now we will run it using the dispersion technique on our plain copies data, created earlier. "
   ]
  },
  {
   "cell_type": "code",
   "execution_count": null,
   "metadata": {
    "collapsed": false
   },
   "outputs": [],
   "source": [
    "pycs.sim.run.multirun(\"copies\", lcs, disp, optset=\"disp\", tsrand=10.0)"
   ]
  },
  {
   "cell_type": "markdown",
   "metadata": {},
   "source": [
    "Now we will run it using the dispersion technique on our synthetic light curve data. "
   ]
  },
  {
   "cell_type": "code",
   "execution_count": null,
   "metadata": {
    "collapsed": true
   },
   "outputs": [],
   "source": [
    "pycs.sim.run.multirun(\"1Kset1\", lcs, disp, optset=\"disp\", tsrand=10.0)"
   ]
  },
  {
   "cell_type": "markdown",
   "metadata": {},
   "source": [
    "### 5.2 Regression Difference Method\n",
    "\n",
    "Finally, we will use our third technique, the regression difference technique. Let's define our variables. Remember, this line needs pymc to work. "
   ]
  },
  {
   "cell_type": "code",
   "execution_count": null,
   "metadata": {
    "collapsed": true
   },
   "outputs": [],
   "source": [
    "def regdiff(lcs):\n",
    "   return pycs.regdiff.multiopt.opt_ts(lcs, pd=5, scale=200.0, verbose=True)"
   ]
  },
  {
   "cell_type": "markdown",
   "metadata": {},
   "source": [
    "Now we will run it using the regression difference technique on our plain copies data, created earlier. "
   ]
  },
  {
   "cell_type": "code",
   "execution_count": null,
   "metadata": {
    "collapsed": true
   },
   "outputs": [],
   "source": [
    "pycs.sim.run.multirun(\"copies\", lcs, regdiff, optset=\"regdiff\", tsrand=10.0)"
   ]
  },
  {
   "cell_type": "markdown",
   "metadata": {},
   "source": [
    "Now we will run it using the regression difference technique on our synthetic light curve data. "
   ]
  },
  {
   "cell_type": "code",
   "execution_count": null,
   "metadata": {
    "collapsed": true
   },
   "outputs": [],
   "source": [
    "pycs.sim.run.multirun(\"1Kset1\", lcs, regdiff, optset=\"regdiff\", tsrand=10.0)"
   ]
  },
  {
   "cell_type": "markdown",
   "metadata": {},
   "source": [
    "###  5.3. Method Comparison"
   ]
  },
  {
   "cell_type": "markdown",
   "metadata": {},
   "source": [
    "Let's repeat the collection and plotting steps from above, bit now showing all three methods."
   ]
  },
  {
   "cell_type": "code",
   "execution_count": null,
   "metadata": {
    "collapsed": false
   },
   "outputs": [],
   "source": [
    "dataresults = [\n",
    "        pycs.sim.run.collect(\"sims_copies_opt_spl\", \"blue\", \"Free-knot spline technique\"),\n",
    "        pycs.sim.run.collect(\"sims_copies_opt_disp\", \"red\", \"Dispersion-like technique\"),\n",
    "        pycs.sim.run.collect(\"sims_copies_opt_regdiff\", \"green\", \"Regression difference technique\")\n",
    "]"
   ]
  },
  {
   "cell_type": "code",
   "execution_count": null,
   "metadata": {
    "collapsed": true
   },
   "outputs": [],
   "source": [
    "pycs.sim.plot.hists(dataresults, r=5.0, nbins=100, showqs=False,\n",
    "        filename=\"fig_intrinsicvariance.pdf\", dataout=True)"
   ]
  },
  {
   "cell_type": "code",
   "execution_count": null,
   "metadata": {
    "collapsed": true
   },
   "outputs": [],
   "source": [
    "simresults = [        \n",
    "    pycs.sim.run.collect(\"sims_1Kset1_opt_spl\", \"blue\", \"Free-knot spline technique\"),\n",
    "    pycs.sim.run.collect(\"sims_1Kset1_opt_disp\", \"red\", \"Dispersion-like technique\"),\n",
    "    pycs.sim.run.collect(\"sims_1Kset1_opt_regdiff\", \"green\", \"Regression difference technique\")\n",
    "]"
   ]
  },
  {
   "cell_type": "code",
   "execution_count": null,
   "metadata": {
    "collapsed": true
   },
   "outputs": [],
   "source": [
    "pycs.sim.plot.measvstrue(simresults, errorrange=3.5, r=5.0, nbins = 10, binclip=True, binclipr=20.0,\n",
    "        plotpoints=False, filename=\"fig_measvstrue.pdf\", dataout=True)"
   ]
  },
  {
   "cell_type": "code",
   "execution_count": null,
   "metadata": {
    "collapsed": true
   },
   "outputs": [],
   "source": [
    "pycs.sim.plot.covplot(simresults, filename=\"fig_covplot.pdf\")"
   ]
  },
  {
   "cell_type": "code",
   "execution_count": null,
   "metadata": {
    "collapsed": true
   },
   "outputs": [],
   "source": [
    "disp = (pycs.gen.util.readpickle(\"sims_copies_opt_disp_delays.pkl\"),\n",
    "        pycs.gen.util.readpickle(\"sims_1Kset1_opt_disp_errorbars.pkl\"))\n",
    "\n",
    "regdiff = (pycs.gen.util.readpickle(\"sims_copies_opt_regdiff_delays.pkl\"),\n",
    "        pycs.gen.util.readpickle(\"sims_1Kset1_opt_regdiff_errorbars.pkl\"))\n",
    "\n",
    "spl = (pycs.gen.util.readpickle(\"sims_copies_opt_spl_delays.pkl\"),\n",
    "       pycs.gen.util.readpickle(\"sims_1Kset1_opt_spl_errorbars.pkl\"))"
   ]
  },
  {
   "cell_type": "markdown",
   "metadata": {},
   "source": [
    "Our final plot! Again, over-writing (\"fig_delays.pdf\"), but summarizing the performance of the three methods."
   ]
  },
  {
   "cell_type": "code",
   "execution_count": null,
   "metadata": {
    "collapsed": true
   },
   "outputs": [],
   "source": [
    "pycs.sim.plot.newdelayplot([disp, regdiff, spl], rplot=6.0, displaytext=True,\n",
    "        filename = \"fig_delays.pdf\", refshifts=[{\"colour\":\"gray\", \"shifts\":(0, -5, -20, -70)}])"
   ]
  }
 ],
 "metadata": {
  "kernelspec": {
   "display_name": "Python 2",
   "language": "python",
   "name": "python2"
  },
  "language_info": {
   "codemirror_mode": {
    "name": "ipython",
    "version": 2
   },
   "file_extension": ".py",
   "mimetype": "text/x-python",
   "name": "python",
   "nbconvert_exporter": "python",
   "pygments_lexer": "ipython2",
   "version": "2.7.11"
  }
 },
 "nbformat": 4,
 "nbformat_minor": 0
}
