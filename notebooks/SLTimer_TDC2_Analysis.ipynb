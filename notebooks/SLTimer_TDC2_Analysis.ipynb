{
 "cells": [
  {
   "cell_type": "markdown",
   "metadata": {},
   "source": [
    "# SLTimer Analysis on TDC2 Data\n",
    "\n",
    "This notebook shows the analysis on TDC2 data with the use of SLTimer. We try to explore PyCS code to understand what combination of parameter could be best to make PyCS fit data well. \n",
    "Two parameters we could tune are knotsteps for micro-lensing spline function and knotsteps for intrinsic spline function. To simplify the analysis, we set the knotstep for micro-lensing spline function to be 350 days, because micro-lensing does not likely cause variability within a year. With the above concern, in this notebook, we try to understand which knotstep parameter we should choose for intrinsic spline function to get a good fit and it's impact on recovered time-delay. \n",
    "In this notebook, we first do the analysis on all the data. We then do the same thing with i-band data only, because one possible extra noise can come from the different gain in each bands. "
   ]
  },
  {
   "cell_type": "markdown",
   "metadata": {},
   "source": [
    "##  All data analysis"
   ]
  },
  {
   "cell_type": "markdown",
   "metadata": {},
   "source": [
    "First, we'll import `SLTimer`, as well as a few other important commands. "
   ]
  },
  {
   "cell_type": "code",
   "execution_count": null,
   "metadata": {
    "collapsed": false,
    "scrolled": false
   },
   "outputs": [],
   "source": [
    "from __future__ import print_function\n",
    "import os, urllib, numpy as np\n",
    "%matplotlib inline\n",
    "import desc.sltimer\n",
    "\n",
    "%load_ext autoreload\n",
    "%autoreload 2"
   ]
  },
  {
   "cell_type": "markdown",
   "metadata": {},
   "source": [
    "## Data Munging\n",
    "\n",
    "Start a timer object, download some data to use, and plot the data. "
   ]
  },
  {
   "cell_type": "code",
   "execution_count": null,
   "metadata": {
    "collapsed": false
   },
   "outputs": [],
   "source": [
    "timer = desc.sltimer.SLTimer()\n",
    "url = \"http://www.slac.stanford.edu/~pjm/LSST/DESC/SLTimeDelayChallenge/release/tdc2/gateway/tdc2-gateway-1.txt\"\n",
    "timer.download(url, and_read=True, format='tdc2')\n",
    "timer.display_light_curves(jdrange=(59500,63100))"
   ]
  },
  {
   "cell_type": "markdown",
   "metadata": {},
   "source": [
    "True Time delay"
   ]
  },
  {
   "cell_type": "code",
   "execution_count": null,
   "metadata": {
    "collapsed": false
   },
   "outputs": [],
   "source": [
    "truthurl = \"http://www.slac.stanford.edu/~pjm/LSST/DESC/SLTimeDelayChallenge/release/tdc2/gateway/gatewaytruth.txt\"\n",
    "truthfile = truthurl.split('/')[-1]\n",
    "if not os.path.isfile(truthfile):\n",
    "    urllib.urlretrieve(truthurl, truthfile)\n",
    "d = np.loadtxt(truthfile).transpose()\n",
    "truth = d[0]\n",
    "print(\"True Time Delays:\", truth)"
   ]
  },
  {
   "cell_type": "markdown",
   "metadata": {},
   "source": [
    "## Preprocessing SLTimer"
   ]
  },
  {
   "cell_type": "markdown",
   "metadata": {},
   "source": [
    "We offset the light curves to a common mean to get a set of points that look more like they were taken in one filter."
   ]
  },
  {
   "cell_type": "code",
   "execution_count": null,
   "metadata": {
    "collapsed": false,
    "scrolled": true
   },
   "outputs": [],
   "source": [
    "timer.whiten()"
   ]
  },
  {
   "cell_type": "markdown",
   "metadata": {},
   "source": [
    "We set knotsteps of micro lensing spline function to 350 because we think micro lensing should not vary very fast. "
   ]
  },
  {
   "cell_type": "code",
   "execution_count": null,
   "metadata": {
    "collapsed": false
   },
   "outputs": [],
   "source": [
    "timer.ml_knotstep=350"
   ]
  },
  {
   "cell_type": "markdown",
   "metadata": {},
   "source": [
    "## Data analyzing\n",
    "\n",
    "We're now ready to analyze this data. "
   ]
  },
  {
   "cell_type": "markdown",
   "metadata": {},
   "source": [
    "In the following code, we are generating likelihood function for different knotstep.  \n",
    "\n",
    "We generate the likelihood function by regularly sampling time-delay from -120 days to 120 days. For each sample, we shift the curve accordingly, use free spline function to fit the light curve (at constant time delay.) and compute the chisquare.\n",
    "\n",
    "For each run, we change the knotstep parameter on spline function used to fit quasar. The way we fit the quasar is a three stage way, which are \n",
    "pycs.spl.topopt.opt_rough(nit=5, knotstep=5/2knotstep), \n",
    "pycs.spl.topopt.opt_rough(nit=5, knotstep=3/2knotstep), \n",
    "and pycs.spl.topopt.opt_fine(nit=10, knotstep=knotstep)"
   ]
  },
  {
   "cell_type": "code",
   "execution_count": null,
   "metadata": {
    "collapsed": true
   },
   "outputs": [],
   "source": [
    "out_dir=\"./\"\n",
    "def Run(knotstep):\n",
    "    nsample=1000\n",
    "    sample=np.linspace(-120,120,nsample).reshape(-1,1)\n",
    "    timer.knotstep=knotstep\n",
    "    timer.compute_likelihood_simpleMC(nsample=nsample, nprocess=2,\n",
    "                                    rangeList=None, outName=out_dir+\"test_nolensing_notsStep{0}\".format(knotstep),\n",
    "                                    save_file=True, samples=sample)"
   ]
  },
  {
   "cell_type": "code",
   "execution_count": null,
   "metadata": {
    "collapsed": false
   },
   "outputs": [],
   "source": [
    "#Run(20)\n",
    "#This function could will generate a file with the first column be time-delay and second column be chisquare. \n",
    "#However since the process will take about an hour to run, I suggest you to download the files I've already generated"
   ]
  },
  {
   "cell_type": "markdown",
   "metadata": {},
   "source": [
    "The link to the files I generated with Run function."
   ]
  },
  {
   "cell_type": "code",
   "execution_count": null,
   "metadata": {
    "collapsed": true
   },
   "outputs": [],
   "source": [
    "SampleUrl=\"http://stanford.edu/~chto/SLTimer_TDC2_sample/lensing_350_all/\"\n",
    "name_data=\"ml350_all_{0}_delay_chi2_1000_samples.txt\""
   ]
  },
  {
   "cell_type": "markdown",
   "metadata": {},
   "source": [
    "define functions to download and plot files"
   ]
  },
  {
   "cell_type": "code",
   "execution_count": null,
   "metadata": {
    "collapsed": false
   },
   "outputs": [],
   "source": [
    "import os, urllib\n",
    "def getFile(knotstep):\n",
    "    name=name_data.format(knotstep)\n",
    "    url=SampleUrl+name\n",
    "    urllib.urlretrieve(url, name)\n",
    "def plot_file(timer, knotstep):\n",
    "    name=name_data.format(knotstep)\n",
    "    print(name)\n",
    "    timer.plot_likelihood_from_file(name, outName=\"\", chisquare=True, bins=200,corner_plot=False)"
   ]
  },
  {
   "cell_type": "markdown",
   "metadata": {},
   "source": [
    "define the function to plot chisquare for a given knotstep and also print out degree of freedom"
   ]
  },
  {
   "cell_type": "code",
   "execution_count": null,
   "metadata": {
    "collapsed": true
   },
   "outputs": [],
   "source": [
    "def batch_analyze(timer, knotstep):\n",
    "    timer.knotstep=knotstep\n",
    "    timer.ml_knotstep=350\n",
    "    getFile(knotstep)\n",
    "    plot_file(timer, knotstep)\n",
    "    print(\"degree of freedom is : {0}\".format(timer.degree_of_freedom()))"
   ]
  },
  {
   "cell_type": "markdown",
   "metadata": {},
   "source": [
    "define the function to plot light curve given a time delay"
   ]
  },
  {
   "cell_type": "code",
   "execution_count": null,
   "metadata": {
    "collapsed": true
   },
   "outputs": [],
   "source": [
    "def plot_light_curve(timer, delay, knotstep):\n",
    "    timer.knotstep=knotstep\n",
    "    lcs, agn = timer.compute_chisq(delay=[delay], getlcs=True)\n",
    "    timer.display_light_curves(given_curve=(lcs,agn))"
   ]
  },
  {
   "cell_type": "markdown",
   "metadata": {},
   "source": [
    "plot chisquare distribution when knotstep parameter = 20 "
   ]
  },
  {
   "cell_type": "code",
   "execution_count": null,
   "metadata": {
    "collapsed": false
   },
   "outputs": [],
   "source": [
    "batch_analyze(timer, knotstep=20)"
   ]
  },
  {
   "cell_type": "markdown",
   "metadata": {},
   "source": [
    "Note:\n",
    "the minimum chisquare is above 0.2*1e7 and number of data is 2012, which means on average the fitted curve is (0.2*1e7/2012)^(1/2) = 31.52 sigma away from data. "
   ]
  },
  {
   "cell_type": "markdown",
   "metadata": {},
   "source": [
    "plot the fitted curve and data at true answer (ie delay=55)"
   ]
  },
  {
   "cell_type": "code",
   "execution_count": null,
   "metadata": {
    "collapsed": false
   },
   "outputs": [],
   "source": [
    "plot_light_curve(timer, delay=55, knotstep=20)"
   ]
  },
  {
   "cell_type": "markdown",
   "metadata": {},
   "source": [
    "Repeat the above analysis  while changing knotstep = 50 and 70\n",
    "Note: Here, I only show 50 and 70 to demostrate, but I actually do the analysis with knotstep = 20, 30, 40, 50, 60, 70, 80, 90, 100. "
   ]
  },
  {
   "cell_type": "code",
   "execution_count": null,
   "metadata": {
    "collapsed": false
   },
   "outputs": [],
   "source": [
    "batch_analyze(timer, knotstep=50)"
   ]
  },
  {
   "cell_type": "code",
   "execution_count": null,
   "metadata": {
    "collapsed": false
   },
   "outputs": [],
   "source": [
    "plot_light_curve(timer, delay=55, knotstep=50)"
   ]
  },
  {
   "cell_type": "code",
   "execution_count": null,
   "metadata": {
    "collapsed": false,
    "scrolled": false
   },
   "outputs": [],
   "source": [
    "batch_analyze(timer, 70)"
   ]
  },
  {
   "cell_type": "code",
   "execution_count": null,
   "metadata": {
    "collapsed": false
   },
   "outputs": [],
   "source": [
    "plot_light_curve(timer, 55, 70)"
   ]
  },
  {
   "cell_type": "markdown",
   "metadata": {},
   "source": [
    "The above analysis shows that PyCS will not be able to recover the true time delay. One thing could go wrong is the gain for data in different bands might not be the same and introduce extra structure to the light curve. Therefore to simlify the problem, in the follwoing I'll perfom the same analysis on i band data. "
   ]
  },
  {
   "cell_type": "markdown",
   "metadata": {},
   "source": [
    "## i band data analysis"
   ]
  },
  {
   "cell_type": "code",
   "execution_count": null,
   "metadata": {
    "collapsed": false,
    "scrolled": true
   },
   "outputs": [],
   "source": [
    "timer_i = desc.sltimer.SLTimer()\n",
    "url = \"http://www.slac.stanford.edu/~pjm/LSST/DESC/SLTimeDelayChallenge/release/tdc2/gateway/tdc2-gateway-1.txt\"\n",
    "timer_i.download(url, and_read=True, format='tdc2')\n",
    "timer_i.select_bands('i')\n",
    "timer_i.display_light_curves(jdrange=(59500,63100))\n",
    "name_data=\"ml350_i_{0}_delay_chi2_1000_samples.txt\"\n",
    "SampleUrl=\"http://stanford.edu/~chto/SLTimer_TDC2_sample/lensing_350_iband/\""
   ]
  },
  {
   "cell_type": "code",
   "execution_count": null,
   "metadata": {
    "collapsed": true
   },
   "outputs": [],
   "source": [
    "timer_i.ml_knotstep=350"
   ]
  },
  {
   "cell_type": "code",
   "execution_count": null,
   "metadata": {
    "collapsed": false
   },
   "outputs": [],
   "source": [
    "batch_analyze(timer_i, knotstep=20)\n",
    "plot_light_curve(timer_i, delay=55, knotstep=20)"
   ]
  },
  {
   "cell_type": "code",
   "execution_count": null,
   "metadata": {
    "collapsed": false
   },
   "outputs": [],
   "source": [
    "batch_analyze(timer_i, knotstep=50)\n",
    "plot_light_curve(timer_i, delay=55, knotstep=50)"
   ]
  },
  {
   "cell_type": "code",
   "execution_count": null,
   "metadata": {
    "collapsed": false
   },
   "outputs": [],
   "source": [
    "batch_analyze(timer_i, knotstep=70)\n",
    "plot_light_curve(timer_i, delay=55, knotstep=70)"
   ]
  },
  {
   "cell_type": "markdown",
   "metadata": {},
   "source": [
    "As you see, chisquare goes very low at high time delay, no matter what knotsteps we put in. The reason for this is because for long time delay, the data will not overlap with each other  and help spline function to fit the data. "
   ]
  },
  {
   "cell_type": "markdown",
   "metadata": {},
   "source": [
    "## Conclusion: \n",
    "1. The fitted light curve seems not fitting the data very well, given the value of minimum chisquare and number of data. \n",
    "For example, if we fitted on all the data with knotsteps=20, the lowest chisquare is 0.21e7 and number of data is 2012. This implies on average the fitted curve is (0.21e7/2012)^(1/2) = 31.52 sigma away from data. If we fitting only on i band data with knotstep=20, the lowest chisquare is 20000 and number of data is 312. This implies on average the fitted curve is (20000/312)^(1/2) = 8 sigma away from data.\n",
    "\n",
    "2. From chisquare to time delay plots, we know our current fitting method will not be able to recover the true time delay. Some additional process is needed. "
   ]
  },
  {
   "cell_type": "markdown",
   "metadata": {},
   "source": [
    "To further analyze conclusion number 1, we can test the method on tutorial light curve and calculate degree of freedom and number of data."
   ]
  },
  {
   "cell_type": "code",
   "execution_count": null,
   "metadata": {
    "collapsed": false
   },
   "outputs": [],
   "source": [
    "timer_tutorial = desc.sltimer.SLTimer()\n",
    "url = \"https://raw.githubusercontent.com/COSMOGRAIL/PyCS/master/demo/demo1/data/trialcurves.txt\"\n",
    "timer_tutorial.download(url, and_read=True)\n",
    "timer_tutorial.display_light_curves()"
   ]
  },
  {
   "cell_type": "code",
   "execution_count": null,
   "metadata": {
    "collapsed": false
   },
   "outputs": [],
   "source": [
    "timer_tutorial.ml_knotstep=150\n",
    "timer_tutorial.knotstep=20\n",
    "timer_tutorial.add_spline_microlensing()\n",
    "timer_tutorial.optimize_spline_model()\n",
    "timer_tutorial.degree_of_freedom()"
   ]
  },
  {
   "cell_type": "markdown",
   "metadata": {},
   "source": [
    "We can see the chisquare for true answer is 2159.8 but number of data is 768. This is weird because the fitted light curve is on average (2159/768)^(1/2)= 1.67 sigma away from the data. "
   ]
  }
 ],
 "metadata": {
  "kernelspec": {
   "display_name": "Python 2",
   "language": "python",
   "name": "python2"
  },
  "language_info": {
   "codemirror_mode": {
    "name": "ipython",
    "version": 2
   },
   "file_extension": ".py",
   "mimetype": "text/x-python",
   "name": "python",
   "nbconvert_exporter": "python",
   "pygments_lexer": "ipython2",
   "version": "2.7.10"
  }
 },
 "nbformat": 4,
 "nbformat_minor": 0
}
