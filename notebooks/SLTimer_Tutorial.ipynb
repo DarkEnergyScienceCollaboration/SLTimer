{
 "cells": [
  {
   "cell_type": "markdown",
   "metadata": {},
   "source": [
    "# SLTimer Tutorial \n",
    "This notebook shows you how to find the estimatation of a lens time delays from example light curve data using the PyCS code. For a detailed tutorial through the PyCS code, please visit this [address.](https://github.com/DarkEnergyScienceCollaboration/SLTimer/blob/master/notebooks/PyCS_Tutorial.ipynb)"
   ]
  },
  {
   "cell_type": "markdown",
   "metadata": {},
   "source": [
    "Let's first import `SLTimer`, as well as a few other important commands. "
   ]
  },
  {
   "cell_type": "code",
   "execution_count": 9,
   "metadata": {
    "collapsed": false
   },
   "outputs": [
    {
     "name": "stdout",
     "output_type": "stream",
     "text": [
      "The autoreload extension is already loaded. To reload it, use:\n",
      "  %reload_ext autoreload\n"
     ]
    }
   ],
   "source": [
    "from __future__ import print_function\n",
    "%matplotlib inline\n",
    "from desc.sltimer import SLTimer\n",
    "%load_ext autoreload\n",
    "%autoreload 2"
   ]
  },
  {
   "cell_type": "markdown",
   "metadata": {},
   "source": [
    "Next, let's simplify our variable. "
   ]
  },
  {
   "cell_type": "code",
   "execution_count": 10,
   "metadata": {
    "collapsed": false
   },
   "outputs": [],
   "source": [
    "S = SLTimer()"
   ]
  },
  {
   "cell_type": "markdown",
   "metadata": {},
   "source": [
    "Let's define our variables and download our trial data, testing it to make sure that we have downloaded the correct file. The output should state 194 lines if using the trialcurves.txt file. "
   ]
  },
  {
   "cell_type": "code",
   "execution_count": null,
   "metadata": {
    "collapsed": false
   },
   "outputs": [],
   "source": [
    "url = \"https://raw.githubusercontent.com/COSMOGRAIL/PyCS/master/demo/demo1/data/trialcurves.txt\"\n",
    "S.download(url)"
   ]
  },
  {
   "cell_type": "code",
   "execution_count": null,
   "metadata": {
    "collapsed": false
   },
   "outputs": [],
   "source": [
    "datafile = 'trialcurves.txt'\n",
    "S.display_light_curve(datafile)"
   ]
  },
  {
   "cell_type": "code",
   "execution_count": 12,
   "metadata": {
    "collapsed": false
   },
   "outputs": [
    {
     "name": "stdout",
     "output_type": "stream",
     "text": [
      "Read trialcurves_true-shifted.pkl\n",
      "Starting opt_rough on initial delays :\n",
      "AB   +0.00 | AC   +0.00 | AD   +0.00 | BC   +0.00 | BD   +0.00 | CD   +0.00\n",
      "Aiming at first curve.\n",
      "Starting ML optimization ...\n",
      "Working on the spline ML of [Trial/A]|~3/u/7~|\n",
      "Working on the spline ML of [Trial/B](0.000,-0.647,0)|~3/u/7~|\n",
      "Working on the spline ML of [Trial/C](0.000,-1.603,0)|~3/u/7~|\n",
      "Working on the spline ML of [Trial/D](0.000,-2.092,0)|~3/u/7~|\n",
      "Done !\n",
      "First spline and ML opt done.\n",
      "AB   -5.00 | AC  -12.00 | AD  -11.00 | BC   -7.00 | BD   -6.00 | CD   +1.00    (Iteration  1, r2 =  10373.4)\n",
      "AB   -9.00 | AC  -18.00 | AD  -18.00 | BC   -9.00 | BD   -9.00 | CD   +0.00    (Iteration  2, r2 =   9715.3)\n",
      "AB  -10.00 | AC  -20.00 | AD  -23.00 | BC  -10.00 | BD  -13.00 | CD   -3.00    (Iteration  3, r2 =   9823.6)\n",
      "AB  -11.00 | AC  -22.00 | AD  -28.00 | BC  -11.00 | BD  -17.00 | CD   -6.00    (Iteration  4, r2 =   9712.5)\n",
      "AB  -12.00 | AC  -23.00 | AD  -32.00 | BC  -11.00 | BD  -20.00 | CD   -9.00    (Iteration  5, r2 =   9650.2)\n",
      "Rough time shifts done :\n",
      "AB  -12.00 | AC  -23.00 | AD  -32.00 | BC  -11.00 | BD  -20.00 | CD   -9.00\n",
      "Starting opt_rough on initial delays :\n",
      "AB  -12.00 | AC  -23.00 | AD  -32.00 | BC  -11.00 | BD  -20.00 | CD   -9.00\n",
      "Aiming at first curve.\n",
      "Starting ML optimization ...\n",
      "Working on the spline ML of [Trial/A](2.000,0.000,0)|~3/u/7~|\n",
      "Working on the spline ML of [Trial/B](-10.000,-0.647,0)|~3/u/7~|\n",
      "Working on the spline ML of [Trial/C](-21.000,-1.603,0)|~3/u/7~|\n",
      "Working on the spline ML of [Trial/D](-30.000,-2.092,0)|~3/u/7~|\n",
      "Done !\n",
      "First spline and ML opt done.\n",
      "AB  -12.00 | AC  -23.00 | AD  -43.00 | BC  -11.00 | BD  -31.00 | CD  -20.00    (Iteration  1, r2 =   7566.0)\n",
      "AB  -12.00 | AC  -23.00 | AD  -52.00 | BC  -11.00 | BD  -40.00 | CD  -29.00    (Iteration  2, r2 =   7371.1)\n",
      "AB  -12.00 | AC  -23.00 | AD  -58.00 | BC  -11.00 | BD  -46.00 | CD  -35.00    (Iteration  3, r2 =   7287.4)\n",
      "AB  -12.00 | AC  -23.00 | AD  -63.00 | BC  -11.00 | BD  -51.00 | CD  -40.00    (Iteration  4, r2 =   7236.9)\n",
      "AB  -12.00 | AC  -23.00 | AD  -67.00 | BC  -11.00 | BD  -55.00 | CD  -44.00    (Iteration  5, r2 =   7205.8)\n",
      "Rough time shifts done :\n",
      "AB  -12.00 | AC  -23.00 | AD  -67.00 | BC  -11.00 | BD  -55.00 | CD  -44.00\n",
      "Starting opt_fine on initial delays :\n",
      "AB  -12.00 | AC  -23.00 | AD  -67.00 | BC  -11.00 | BD  -55.00 | CD  -44.00\n",
      "Iterations :\n",
      "Start\n",
      "opt_ts_indi brute done\n",
      "opt_ts_indi fine done\n",
      "opt_ml done\n",
      "opt_source BOK done\n",
      "AB   -6.96 | AC  -21.83 | AD  -68.47 | BC  -14.87 | BD  -61.51 | CD  -46.64    (Iteration  1, r2 =   2711.1)\n",
      "Start\n",
      "opt_ts_indi brute done\n",
      "opt_ts_indi fine done\n",
      "opt_ml done\n",
      "opt_source BOK done\n",
      "AB   -5.75 | AC  -21.26 | AD  -68.44 | BC  -15.50 | BD  -62.69 | CD  -47.19    (Iteration  2, r2 =   2427.7)\n",
      "Start\n",
      "opt_ts_indi brute done\n",
      "opt_ts_indi fine done\n",
      "opt_ml done\n",
      "opt_source BOK done\n",
      "AB   -5.25 | AC  -20.95 | AD  -68.27 | BC  -15.70 | BD  -63.01 | CD  -47.32    (Iteration  3, r2 =   2326.9)\n",
      "Start\n",
      "opt_ts_indi brute done\n",
      "opt_ts_indi fine done\n",
      "opt_ml done\n",
      "opt_source BOK done\n",
      "AB   -4.99 | AC  -20.80 | AD  -68.03 | BC  -15.81 | BD  -63.04 | CD  -47.23    (Iteration  4, r2 =   2286.0)\n",
      "Start\n",
      "opt_ts_indi brute done\n",
      "opt_ts_indi fine done\n",
      "opt_ml done\n",
      "opt_source BOK done\n",
      "AB   -4.85 | AC  -20.63 | AD  -68.10 | BC  -15.78 | BD  -63.24 | CD  -47.46    (Iteration  5, r2 =   2267.0)\n",
      "Start\n",
      "opt_ts_indi brute done\n",
      "opt_ts_indi fine done\n",
      "opt_ml done\n",
      "opt_source BOK done\n",
      "AB   -4.74 | AC  -20.55 | AD  -68.04 | BC  -15.81 | BD  -63.29 | CD  -47.48    (Iteration  6, r2 =   2257.5)\n",
      "Start\n",
      "opt_ts_indi brute done\n",
      "opt_ts_indi fine done\n",
      "opt_ml done\n",
      "opt_source BOK done\n",
      "AB   -4.69 | AC  -20.60 | AD  -68.00 | BC  -15.91 | BD  -63.31 | CD  -47.40    (Iteration  7, r2 =   2254.0)\n",
      "Start\n",
      "opt_ts_indi brute done\n",
      "opt_ts_indi fine done\n",
      "opt_ml done\n",
      "opt_source BOK done\n",
      "AB   -4.68 | AC  -20.56 | AD  -68.01 | BC  -15.88 | BD  -63.32 | CD  -47.44    (Iteration  8, r2 =   2248.0)\n",
      "Start\n",
      "opt_ts_indi brute done\n",
      "opt_ts_indi fine done\n",
      "opt_ml done\n",
      "opt_source BOK done\n",
      "AB   -4.55 | AC  -20.61 | AD  -68.05 | BC  -16.06 | BD  -63.51 | CD  -47.45    (Iteration  9, r2 =   2248.3)\n",
      "Start\n",
      "opt_ts_indi brute done\n",
      "opt_ts_indi fine done\n",
      "opt_ml done\n",
      "opt_source BOK done\n",
      "AB   -4.53 | AC  -20.59 | AD  -68.01 | BC  -16.06 | BD  -63.48 | CD  -47.42    (Iteration 10, r2 =   2237.0)\n",
      "Timeshift stabilization and releasing of splflat :\n",
      "AB   -4.39 | AC  -20.67 | AD  -68.01 | BC  -16.28 | BD  -63.62 | CD  -47.33    (Iteration  1, r2 =   2172.8)\n",
      "AB   -4.31 | AC  -20.67 | AD  -68.06 | BC  -16.37 | BD  -63.75 | CD  -47.39    (Iteration  2, r2 =   2164.3)\n",
      "AB   -4.31 | AC  -20.60 | AD  -68.01 | BC  -16.29 | BD  -63.70 | CD  -47.40    (Iteration  3, r2 =   2158.8)\n",
      "AB   -4.31 | AC  -20.60 | AD  -68.01 | BC  -16.29 | BD  -63.70 | CD  -47.40    (Iteration  4, r2 =   2155.5)\n",
      "AB   -4.31 | AC  -20.60 | AD  -68.01 | BC  -16.29 | BD  -63.70 | CD  -47.40    (Iteration  5, r2 =   2153.1)\n",
      "Time Delays (microlensing included, with splines):\n",
      "AB   -4.31\n",
      "AC  -20.60\n",
      "AD  -68.01\n",
      "BC  -16.29\n",
      "BD  -63.70\n",
      "CD  -47.40\n"
     ]
    }
   ],
   "source": [
    "S.spline_time_delays()"
   ]
  },
  {
   "cell_type": "code",
   "execution_count": null,
   "metadata": {
    "collapsed": false
   },
   "outputs": [],
   "source": [
    "S.estimate_time_delay_uncertainties()"
   ]
  },
  {
   "cell_type": "markdown",
   "metadata": {},
   "source": [
    "Note: TOOK OUT THE rm objects: wasn't running? "
   ]
  }
 ],
 "metadata": {
  "kernelspec": {
   "display_name": "Python 2",
   "language": "python",
   "name": "python2"
  },
  "language_info": {
   "codemirror_mode": {
    "name": "ipython",
    "version": 2
   },
   "file_extension": ".py",
   "mimetype": "text/x-python",
   "name": "python",
   "nbconvert_exporter": "python",
   "pygments_lexer": "ipython2",
   "version": "2.7.11"
  }
 },
 "nbformat": 4,
 "nbformat_minor": 0
}
